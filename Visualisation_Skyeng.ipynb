{
 "cells": [
  {
   "cell_type": "markdown",
   "metadata": {},
   "source": [
    "# Домашнее задание 3.1. Визуализация данных в Python\n",
    "# 🏃‍♂️🤸‍♂️🏋️‍♀️ \n"
   ]
  },
  {
   "cell_type": "raw",
   "metadata": {},
   "source": [
    "Поздравляем, ты все еще в команде популярной сети фитнес-клубов. Мы ищем точки роста на 2021 год и хотим исследовать две темы: \n",
    "\n",
    "1. **Тренировки**: как они распределяются во времени и по тренерам, как обстоят дела в разных клубах.\n",
    "2. **Клиентов**: как их можно сегментировать, какие у них привычки.\n",
    "\n",
    "В следующих 6 заданиях ты построишь графики — они помогут сформулировать новые гипотезы для роста нашей сети фитнес-клубов в следующем году.\n",
    "\n",
    "Не стесняйся оставлять свои комментарии и заметки с рекомендациями для руководителя относительно данных, которые видишь на графиках. \n",
    "\n",
    "Для начала подключись ко всем нужным библиотекам и данным. Проверь, что данные лежат в той же папке, что этот ноутбук."
   ]
  },
  {
   "cell_type": "code",
   "execution_count": 2,
   "metadata": {},
   "outputs": [],
   "source": [
    "import pandas as pd\n",
    "from matplotlib import pyplot as plt\n",
    "import seaborn as sns\n",
    "%matplotlib inline\n",
    "#sns.set(rc={'figure.figsize': (18, 8)})"
   ]
  },
  {
   "cell_type": "code",
   "execution_count": 3,
   "metadata": {},
   "outputs": [],
   "source": [
    "# загружаем данные\n",
    "\n",
    "workouts = pd.read_csv('workouts.csv', parse_dates=['start_at'])\n",
    "users = pd.read_excel('users.xlsx')\n",
    "\n",
    "#сразу создадим новый датафрейм, в котором соединены уроки и пользователи\n",
    "\n",
    "workouts_users =  pd.merge(workouts, users, \n",
    "                     how='left',\n",
    "                     left_on='client_id', right_on='user_id')"
   ]
  },
  {
   "cell_type": "code",
   "execution_count": 4,
   "metadata": {},
   "outputs": [
    {
     "data": {
      "text/html": [
       "<div>\n",
       "<style scoped>\n",
       "    .dataframe tbody tr th:only-of-type {\n",
       "        vertical-align: middle;\n",
       "    }\n",
       "\n",
       "    .dataframe tbody tr th {\n",
       "        vertical-align: top;\n",
       "    }\n",
       "\n",
       "    .dataframe thead th {\n",
       "        text-align: right;\n",
       "    }\n",
       "</style>\n",
       "<table border=\"1\" class=\"dataframe\">\n",
       "  <thead>\n",
       "    <tr style=\"text-align: right;\">\n",
       "      <th></th>\n",
       "      <th>workout_id</th>\n",
       "      <th>cost</th>\n",
       "      <th>start_at</th>\n",
       "      <th>status</th>\n",
       "      <th>workout_schedule_type</th>\n",
       "      <th>client_id</th>\n",
       "      <th>client_status</th>\n",
       "      <th>workout_type</th>\n",
       "      <th>trainer_department</th>\n",
       "      <th>trainer_id</th>\n",
       "      <th>first_contact_datetime</th>\n",
       "      <th>age</th>\n",
       "      <th>free_workout_datetime</th>\n",
       "      <th>first_payment_datetime</th>\n",
       "      <th>workouts_successful</th>\n",
       "      <th>workouts_total</th>\n",
       "      <th>months_active</th>\n",
       "      <th>user_id</th>\n",
       "      <th>region</th>\n",
       "      <th>geo_group</th>\n",
       "    </tr>\n",
       "  </thead>\n",
       "  <tbody>\n",
       "    <tr>\n",
       "      <th>0</th>\n",
       "      <td>30793909</td>\n",
       "      <td>NaN</td>\n",
       "      <td>2020-11-13 12:45:00</td>\n",
       "      <td>success</td>\n",
       "      <td>trial</td>\n",
       "      <td>22034</td>\n",
       "      <td>NaN</td>\n",
       "      <td>general</td>\n",
       "      <td>Sales</td>\n",
       "      <td>10722051</td>\n",
       "      <td>2015-06-24 10:44:30</td>\n",
       "      <td>18.0</td>\n",
       "      <td>2020-11-13 12:45:00</td>\n",
       "      <td>2020-11-16 21:41:50</td>\n",
       "      <td>3</td>\n",
       "      <td>3</td>\n",
       "      <td>2</td>\n",
       "      <td>22034</td>\n",
       "      <td>Москва и Московская область</td>\n",
       "      <td>Москва</td>\n",
       "    </tr>\n",
       "    <tr>\n",
       "      <th>1</th>\n",
       "      <td>31123309</td>\n",
       "      <td>750.0</td>\n",
       "      <td>2020-11-21 13:00:00</td>\n",
       "      <td>success</td>\n",
       "      <td>regular</td>\n",
       "      <td>22034</td>\n",
       "      <td>new</td>\n",
       "      <td>general</td>\n",
       "      <td>Spartacus</td>\n",
       "      <td>940642</td>\n",
       "      <td>2015-06-24 10:44:30</td>\n",
       "      <td>18.0</td>\n",
       "      <td>2020-11-13 12:45:00</td>\n",
       "      <td>2020-11-16 21:41:50</td>\n",
       "      <td>3</td>\n",
       "      <td>3</td>\n",
       "      <td>2</td>\n",
       "      <td>22034</td>\n",
       "      <td>Москва и Московская область</td>\n",
       "      <td>Москва</td>\n",
       "    </tr>\n",
       "    <tr>\n",
       "      <th>2</th>\n",
       "      <td>31412167</td>\n",
       "      <td>750.0</td>\n",
       "      <td>2020-11-28 13:00:00</td>\n",
       "      <td>success</td>\n",
       "      <td>regular</td>\n",
       "      <td>22034</td>\n",
       "      <td>new</td>\n",
       "      <td>general</td>\n",
       "      <td>Spartacus</td>\n",
       "      <td>940642</td>\n",
       "      <td>2015-06-24 10:44:30</td>\n",
       "      <td>18.0</td>\n",
       "      <td>2020-11-13 12:45:00</td>\n",
       "      <td>2020-11-16 21:41:50</td>\n",
       "      <td>3</td>\n",
       "      <td>3</td>\n",
       "      <td>2</td>\n",
       "      <td>22034</td>\n",
       "      <td>Москва и Московская область</td>\n",
       "      <td>Москва</td>\n",
       "    </tr>\n",
       "    <tr>\n",
       "      <th>3</th>\n",
       "      <td>31703605</td>\n",
       "      <td>750.0</td>\n",
       "      <td>2020-12-05 13:00:00</td>\n",
       "      <td>success</td>\n",
       "      <td>regular</td>\n",
       "      <td>22034</td>\n",
       "      <td>active</td>\n",
       "      <td>general</td>\n",
       "      <td>Spartacus</td>\n",
       "      <td>940642</td>\n",
       "      <td>2015-06-24 10:44:30</td>\n",
       "      <td>18.0</td>\n",
       "      <td>2020-11-13 12:45:00</td>\n",
       "      <td>2020-11-16 21:41:50</td>\n",
       "      <td>3</td>\n",
       "      <td>3</td>\n",
       "      <td>2</td>\n",
       "      <td>22034</td>\n",
       "      <td>Москва и Московская область</td>\n",
       "      <td>Москва</td>\n",
       "    </tr>\n",
       "    <tr>\n",
       "      <th>4</th>\n",
       "      <td>26904500</td>\n",
       "      <td>NaN</td>\n",
       "      <td>2020-08-06 18:20:00</td>\n",
       "      <td>success</td>\n",
       "      <td>trial</td>\n",
       "      <td>88101</td>\n",
       "      <td>NaN</td>\n",
       "      <td>general</td>\n",
       "      <td>Sales</td>\n",
       "      <td>3826530</td>\n",
       "      <td>2016-09-29 22:59:47</td>\n",
       "      <td>NaN</td>\n",
       "      <td>2020-08-06 18:20:00</td>\n",
       "      <td>2020-08-06 18:53:10</td>\n",
       "      <td>11</td>\n",
       "      <td>15</td>\n",
       "      <td>5</td>\n",
       "      <td>88101</td>\n",
       "      <td>Санкт-Петербург и Ленинградская область</td>\n",
       "      <td>Регионы РФ</td>\n",
       "    </tr>\n",
       "  </tbody>\n",
       "</table>\n",
       "</div>"
      ],
      "text/plain": [
       "   workout_id   cost            start_at   status workout_schedule_type  \\\n",
       "0    30793909    NaN 2020-11-13 12:45:00  success                 trial   \n",
       "1    31123309  750.0 2020-11-21 13:00:00  success               regular   \n",
       "2    31412167  750.0 2020-11-28 13:00:00  success               regular   \n",
       "3    31703605  750.0 2020-12-05 13:00:00  success               regular   \n",
       "4    26904500    NaN 2020-08-06 18:20:00  success                 trial   \n",
       "\n",
       "   client_id client_status workout_type trainer_department  trainer_id  \\\n",
       "0      22034           NaN      general              Sales    10722051   \n",
       "1      22034           new      general          Spartacus      940642   \n",
       "2      22034           new      general          Spartacus      940642   \n",
       "3      22034        active      general          Spartacus      940642   \n",
       "4      88101           NaN      general              Sales     3826530   \n",
       "\n",
       "  first_contact_datetime   age free_workout_datetime first_payment_datetime  \\\n",
       "0    2015-06-24 10:44:30  18.0   2020-11-13 12:45:00    2020-11-16 21:41:50   \n",
       "1    2015-06-24 10:44:30  18.0   2020-11-13 12:45:00    2020-11-16 21:41:50   \n",
       "2    2015-06-24 10:44:30  18.0   2020-11-13 12:45:00    2020-11-16 21:41:50   \n",
       "3    2015-06-24 10:44:30  18.0   2020-11-13 12:45:00    2020-11-16 21:41:50   \n",
       "4    2016-09-29 22:59:47   NaN   2020-08-06 18:20:00    2020-08-06 18:53:10   \n",
       "\n",
       "   workouts_successful  workouts_total  months_active  user_id  \\\n",
       "0                    3               3              2    22034   \n",
       "1                    3               3              2    22034   \n",
       "2                    3               3              2    22034   \n",
       "3                    3               3              2    22034   \n",
       "4                   11              15              5    88101   \n",
       "\n",
       "                                    region   geo_group  \n",
       "0              Москва и Московская область      Москва  \n",
       "1              Москва и Московская область      Москва  \n",
       "2              Москва и Московская область      Москва  \n",
       "3              Москва и Московская область      Москва  \n",
       "4  Санкт-Петербург и Ленинградская область  Регионы РФ  "
      ]
     },
     "execution_count": 4,
     "metadata": {},
     "output_type": "execute_result"
    }
   ],
   "source": [
    "workouts_users.head()"
   ]
  },
  {
   "cell_type": "markdown",
   "metadata": {},
   "source": [
    "## Задание 1\n",
    "\n",
    "**Построй линейный график, который показывает количество тренировок за каждый день. \n",
    "Оставь комментарий — какие закономерности ты наблюдаешь.**\n",
    "\n",
    "Как это сделать:\n",
    "\n",
    "1. Работать будем с датафремом workouts.\n",
    "2. Сгруппируй данные по дням, найди количество проведенных тренировок в каждый день и запиши их в переменную trainings_by_day.\n",
    "3. Построй линейный график. Можешь добавить любые агрументы, но обязательно используй вот эти: \n",
    "    - размер графика\n",
    "    - название графика \n",
    "    - подпись оси X \n",
    "    - подпись оси Y \n",
    "4. Удали неполные данные, которые мешают анализу."
   ]
  },
  {
   "cell_type": "code",
   "execution_count": 5,
   "metadata": {},
   "outputs": [],
   "source": [
    "# напиши здесь код"
   ]
  },
  {
   "cell_type": "code",
   "execution_count": 6,
   "metadata": {
    "scrolled": true
   },
   "outputs": [],
   "source": [
    "workouts['date']=workouts.start_at.dt.date\n",
    "trainings_by_day = workouts.groupby('date', as_index=False).agg({'workout_id':'count'})"
   ]
  },
  {
   "cell_type": "code",
   "execution_count": 7,
   "metadata": {},
   "outputs": [
    {
     "data": {
      "text/html": [
       "<div>\n",
       "<style scoped>\n",
       "    .dataframe tbody tr th:only-of-type {\n",
       "        vertical-align: middle;\n",
       "    }\n",
       "\n",
       "    .dataframe tbody tr th {\n",
       "        vertical-align: top;\n",
       "    }\n",
       "\n",
       "    .dataframe thead th {\n",
       "        text-align: right;\n",
       "    }\n",
       "</style>\n",
       "<table border=\"1\" class=\"dataframe\">\n",
       "  <thead>\n",
       "    <tr style=\"text-align: right;\">\n",
       "      <th></th>\n",
       "      <th>date</th>\n",
       "      <th>workout_count</th>\n",
       "    </tr>\n",
       "  </thead>\n",
       "  <tbody>\n",
       "    <tr>\n",
       "      <th>0</th>\n",
       "      <td>2020-01-01</td>\n",
       "      <td>1</td>\n",
       "    </tr>\n",
       "    <tr>\n",
       "      <th>1</th>\n",
       "      <td>2020-01-02</td>\n",
       "      <td>4</td>\n",
       "    </tr>\n",
       "    <tr>\n",
       "      <th>2</th>\n",
       "      <td>2020-01-03</td>\n",
       "      <td>5</td>\n",
       "    </tr>\n",
       "    <tr>\n",
       "      <th>3</th>\n",
       "      <td>2020-01-04</td>\n",
       "      <td>5</td>\n",
       "    </tr>\n",
       "    <tr>\n",
       "      <th>4</th>\n",
       "      <td>2020-01-05</td>\n",
       "      <td>9</td>\n",
       "    </tr>\n",
       "  </tbody>\n",
       "</table>\n",
       "</div>"
      ],
      "text/plain": [
       "         date  workout_count\n",
       "0  2020-01-01              1\n",
       "1  2020-01-02              4\n",
       "2  2020-01-03              5\n",
       "3  2020-01-04              5\n",
       "4  2020-01-05              9"
      ]
     },
     "execution_count": 7,
     "metadata": {},
     "output_type": "execute_result"
    }
   ],
   "source": [
    "trainings_by_day.columns=['date','workout_count']\n",
    "trainings_by_day.head()"
   ]
  },
  {
   "cell_type": "code",
   "execution_count": 8,
   "metadata": {},
   "outputs": [
    {
     "name": "stderr",
     "output_type": "stream",
     "text": [
      "E:\\Conda\\lib\\site-packages\\pandas\\plotting\\_converter.py:129: FutureWarning: Using an implicitly registered datetime converter for a matplotlib plotting method. The converter was registered by pandas on import. Future versions of pandas will require you to explicitly register matplotlib converters.\n",
      "\n",
      "To register the converters:\n",
      "\t>>> from pandas.plotting import register_matplotlib_converters\n",
      "\t>>> register_matplotlib_converters()\n",
      "  warnings.warn(msg, FutureWarning)\n"
     ]
    },
    {
     "data": {
      "text/plain": [
       "Text(0, 0.5, 'Количество тренировок')"
      ]
     },
     "execution_count": 8,
     "metadata": {},
     "output_type": "execute_result"
    },
    {
     "data": {
      "image/png": "[encoded data removed]",
      "text/plain": [
       "<Figure size 1296x576 with 1 Axes>"
      ]
     },
     "metadata": {
      "needs_background": "light"
     },
     "output_type": "display_data"
    }
   ],
   "source": [
    "fig = plt.figure(figsize=(18, 8))\n",
    "sns.lineplot(data=trainings_by_day, x=\"date\", y=\"workout_count\")\n",
    "plt.title(\"Количество тренировок в разрезе дней\")\n",
    "plt.xlabel(\"Дата\")\n",
    "plt.ylabel(\"Количество тренировок\")\n"
   ]
  },
  {
   "cell_type": "code",
   "execution_count": 9,
   "metadata": {},
   "outputs": [],
   "source": [
    "# Мы видем четкую динамику на увеличение до мая месяца, самые высокие результаты в мае, доходит до 500 тренировок в день, все хотят \"подкачаться к лету\", далее к концу августа - началу сентября идёт спад 20%. и к ноябрю-декабрю опять доходит до 500 тренировок в день\n",
    "# Вообще странно данные начинаются с нуля, как будто фитнес клуб только открылся, в январе очень мало тренировок. \n",
    "# Так же видны большие флуктуации , скорре всего это зависит от дня недели"
   ]
  },
  {
   "cell_type": "code",
   "execution_count": 10,
   "metadata": {},
   "outputs": [],
   "source": [
    "#изучим данные в разрезе дней недели\n",
    "workouts['day_of_week']=workouts.start_at.dt.dayofweek"
   ]
  },
  {
   "cell_type": "code",
   "execution_count": 11,
   "metadata": {},
   "outputs": [],
   "source": [
    "trainings_by_day_of_week = workouts.groupby('day_of_week', as_index=False).agg({'workout_id':'count'})"
   ]
  },
  {
   "cell_type": "code",
   "execution_count": 12,
   "metadata": {},
   "outputs": [],
   "source": [
    "trainings_by_day_of_week.day_of_week +=1"
   ]
  },
  {
   "cell_type": "code",
   "execution_count": 13,
   "metadata": {},
   "outputs": [
    {
     "data": {
      "text/html": [
       "<div>\n",
       "<style scoped>\n",
       "    .dataframe tbody tr th:only-of-type {\n",
       "        vertical-align: middle;\n",
       "    }\n",
       "\n",
       "    .dataframe tbody tr th {\n",
       "        vertical-align: top;\n",
       "    }\n",
       "\n",
       "    .dataframe thead th {\n",
       "        text-align: right;\n",
       "    }\n",
       "</style>\n",
       "<table border=\"1\" class=\"dataframe\">\n",
       "  <thead>\n",
       "    <tr style=\"text-align: right;\">\n",
       "      <th></th>\n",
       "      <th>day_of_week</th>\n",
       "      <th>workouts_count</th>\n",
       "    </tr>\n",
       "  </thead>\n",
       "  <tbody>\n",
       "    <tr>\n",
       "      <th>0</th>\n",
       "      <td>1</td>\n",
       "      <td>17953</td>\n",
       "    </tr>\n",
       "    <tr>\n",
       "      <th>1</th>\n",
       "      <td>2</td>\n",
       "      <td>17134</td>\n",
       "    </tr>\n",
       "    <tr>\n",
       "      <th>2</th>\n",
       "      <td>3</td>\n",
       "      <td>16310</td>\n",
       "    </tr>\n",
       "    <tr>\n",
       "      <th>3</th>\n",
       "      <td>4</td>\n",
       "      <td>17897</td>\n",
       "    </tr>\n",
       "    <tr>\n",
       "      <th>4</th>\n",
       "      <td>5</td>\n",
       "      <td>14912</td>\n",
       "    </tr>\n",
       "    <tr>\n",
       "      <th>5</th>\n",
       "      <td>6</td>\n",
       "      <td>11170</td>\n",
       "    </tr>\n",
       "    <tr>\n",
       "      <th>6</th>\n",
       "      <td>7</td>\n",
       "      <td>9317</td>\n",
       "    </tr>\n",
       "  </tbody>\n",
       "</table>\n",
       "</div>"
      ],
      "text/plain": [
       "   day_of_week  workouts_count\n",
       "0            1           17953\n",
       "1            2           17134\n",
       "2            3           16310\n",
       "3            4           17897\n",
       "4            5           14912\n",
       "5            6           11170\n",
       "6            7            9317"
      ]
     },
     "execution_count": 13,
     "metadata": {},
     "output_type": "execute_result"
    }
   ],
   "source": [
    "trainings_by_day_of_week.columns=['day_of_week', 'workouts_count']\n",
    "trainings_by_day_of_week"
   ]
  },
  {
   "cell_type": "code",
   "execution_count": 14,
   "metadata": {},
   "outputs": [
    {
     "data": {
      "text/plain": [
       "Text(0, 0.5, 'Количество тренировок')"
      ]
     },
     "execution_count": 14,
     "metadata": {},
     "output_type": "execute_result"
    },
    {
     "data": {
      "image/png": "[encoded data removed]",
      "text/plain": [
       "<Figure size 648x288 with 1 Axes>"
      ]
     },
     "metadata": {
      "needs_background": "light"
     },
     "output_type": "display_data"
    }
   ],
   "source": [
    "fig = plt.figure(figsize=(9, 4))\n",
    "sns.lineplot(data=trainings_by_day_of_week, x=\"day_of_week\", y=\"workouts_count\")\n",
    "plt.title(\"Суммарно количество тренировок в разрезе дней недели\")\n",
    "plt.xlabel(\"День недели\")\n",
    "plt.ylabel(\"Количество тренировок\")"
   ]
  },
  {
   "cell_type": "code",
   "execution_count": 15,
   "metadata": {},
   "outputs": [],
   "source": [
    "# самые популярные дни недели для посещения это понедельник и четверг, в выходные занимаются очень мало, особенно в воскресенье"
   ]
  },
  {
   "cell_type": "markdown",
   "metadata": {},
   "source": [
    "## Задание 2\n",
    "\n",
    "**Чтобы углубиться в данные, построй bar chart количества тренировок по дням недели (с понедельника по воскресенье) и отобрази горизонтальной линией на графике среднее количество тренировок  в день.**\n",
    "\n",
    "Как это сделать:\n",
    "1. Внимательно изучи код, который мы подготовили, и запусти ячейки. Что мы сделалаи:\n",
    "    - вернули индекс внутри датафрейма\n",
    "    - переименовали столбцы, чтобы они соответствовали содержимому\n",
    "    - добавили столбец с номером дня недели с помощью dt.weekday\n",
    "    - добавили столбец с названием дня недели с помощью dt.day_name()\n",
    "    \n",
    "\n",
    "2. Cгруппируй данные колонки week_day_num по workouts с подсчетом среднего.\n",
    "3. Построй bar chart. Можешь добавить любые агрументы, но обязательно используй вот эти:\n",
    "\n",
    "    - размер графика\n",
    "    - название графика\n",
    "    - подпись оси X\n",
    "    - подпись оси Y\n",
    "    - задай цвет на графике\n",
    "    \n",
    "\n",
    "4. Добавь горизонтальную линию со средним количеством тренировок в день.\n",
    "5. Оставь комментарий, что ты видишь на графике. \n",
    "\n",
    "**Подготовим данные**"
   ]
  },
  {
   "cell_type": "code",
   "execution_count": 16,
   "metadata": {},
   "outputs": [
    {
     "data": {
      "text/html": [
       "<div>\n",
       "<style scoped>\n",
       "    .dataframe tbody tr th:only-of-type {\n",
       "        vertical-align: middle;\n",
       "    }\n",
       "\n",
       "    .dataframe tbody tr th {\n",
       "        vertical-align: top;\n",
       "    }\n",
       "\n",
       "    .dataframe thead th {\n",
       "        text-align: right;\n",
       "    }\n",
       "</style>\n",
       "<table border=\"1\" class=\"dataframe\">\n",
       "  <thead>\n",
       "    <tr style=\"text-align: right;\">\n",
       "      <th></th>\n",
       "      <th>date</th>\n",
       "      <th>workout_count</th>\n",
       "    </tr>\n",
       "  </thead>\n",
       "  <tbody>\n",
       "    <tr>\n",
       "      <th>0</th>\n",
       "      <td>2020-01-01</td>\n",
       "      <td>1</td>\n",
       "    </tr>\n",
       "    <tr>\n",
       "      <th>1</th>\n",
       "      <td>2020-01-02</td>\n",
       "      <td>4</td>\n",
       "    </tr>\n",
       "    <tr>\n",
       "      <th>2</th>\n",
       "      <td>2020-01-03</td>\n",
       "      <td>5</td>\n",
       "    </tr>\n",
       "    <tr>\n",
       "      <th>3</th>\n",
       "      <td>2020-01-04</td>\n",
       "      <td>5</td>\n",
       "    </tr>\n",
       "    <tr>\n",
       "      <th>4</th>\n",
       "      <td>2020-01-05</td>\n",
       "      <td>9</td>\n",
       "    </tr>\n",
       "    <tr>\n",
       "      <th>5</th>\n",
       "      <td>2020-01-06</td>\n",
       "      <td>13</td>\n",
       "    </tr>\n",
       "    <tr>\n",
       "      <th>6</th>\n",
       "      <td>2020-01-07</td>\n",
       "      <td>8</td>\n",
       "    </tr>\n",
       "    <tr>\n",
       "      <th>7</th>\n",
       "      <td>2020-01-08</td>\n",
       "      <td>19</td>\n",
       "    </tr>\n",
       "    <tr>\n",
       "      <th>8</th>\n",
       "      <td>2020-01-09</td>\n",
       "      <td>19</td>\n",
       "    </tr>\n",
       "    <tr>\n",
       "      <th>9</th>\n",
       "      <td>2020-01-10</td>\n",
       "      <td>24</td>\n",
       "    </tr>\n",
       "    <tr>\n",
       "      <th>10</th>\n",
       "      <td>2020-01-11</td>\n",
       "      <td>27</td>\n",
       "    </tr>\n",
       "    <tr>\n",
       "      <th>11</th>\n",
       "      <td>2020-01-12</td>\n",
       "      <td>12</td>\n",
       "    </tr>\n",
       "    <tr>\n",
       "      <th>12</th>\n",
       "      <td>2020-01-13</td>\n",
       "      <td>31</td>\n",
       "    </tr>\n",
       "    <tr>\n",
       "      <th>13</th>\n",
       "      <td>2020-01-14</td>\n",
       "      <td>39</td>\n",
       "    </tr>\n",
       "    <tr>\n",
       "      <th>14</th>\n",
       "      <td>2020-01-15</td>\n",
       "      <td>42</td>\n",
       "    </tr>\n",
       "    <tr>\n",
       "      <th>15</th>\n",
       "      <td>2020-01-16</td>\n",
       "      <td>40</td>\n",
       "    </tr>\n",
       "    <tr>\n",
       "      <th>16</th>\n",
       "      <td>2020-01-17</td>\n",
       "      <td>50</td>\n",
       "    </tr>\n",
       "    <tr>\n",
       "      <th>17</th>\n",
       "      <td>2020-01-18</td>\n",
       "      <td>30</td>\n",
       "    </tr>\n",
       "    <tr>\n",
       "      <th>18</th>\n",
       "      <td>2020-01-19</td>\n",
       "      <td>38</td>\n",
       "    </tr>\n",
       "    <tr>\n",
       "      <th>19</th>\n",
       "      <td>2020-01-20</td>\n",
       "      <td>69</td>\n",
       "    </tr>\n",
       "    <tr>\n",
       "      <th>20</th>\n",
       "      <td>2020-01-21</td>\n",
       "      <td>57</td>\n",
       "    </tr>\n",
       "    <tr>\n",
       "      <th>21</th>\n",
       "      <td>2020-01-22</td>\n",
       "      <td>68</td>\n",
       "    </tr>\n",
       "    <tr>\n",
       "      <th>22</th>\n",
       "      <td>2020-01-23</td>\n",
       "      <td>68</td>\n",
       "    </tr>\n",
       "    <tr>\n",
       "      <th>23</th>\n",
       "      <td>2020-01-24</td>\n",
       "      <td>63</td>\n",
       "    </tr>\n",
       "    <tr>\n",
       "      <th>24</th>\n",
       "      <td>2020-01-25</td>\n",
       "      <td>53</td>\n",
       "    </tr>\n",
       "    <tr>\n",
       "      <th>25</th>\n",
       "      <td>2020-01-26</td>\n",
       "      <td>49</td>\n",
       "    </tr>\n",
       "    <tr>\n",
       "      <th>26</th>\n",
       "      <td>2020-01-27</td>\n",
       "      <td>78</td>\n",
       "    </tr>\n",
       "    <tr>\n",
       "      <th>27</th>\n",
       "      <td>2020-01-28</td>\n",
       "      <td>92</td>\n",
       "    </tr>\n",
       "    <tr>\n",
       "      <th>28</th>\n",
       "      <td>2020-01-29</td>\n",
       "      <td>93</td>\n",
       "    </tr>\n",
       "    <tr>\n",
       "      <th>29</th>\n",
       "      <td>2020-01-30</td>\n",
       "      <td>90</td>\n",
       "    </tr>\n",
       "    <tr>\n",
       "      <th>...</th>\n",
       "      <td>...</td>\n",
       "      <td>...</td>\n",
       "    </tr>\n",
       "    <tr>\n",
       "      <th>313</th>\n",
       "      <td>2020-11-09</td>\n",
       "      <td>452</td>\n",
       "    </tr>\n",
       "    <tr>\n",
       "      <th>314</th>\n",
       "      <td>2020-11-10</td>\n",
       "      <td>467</td>\n",
       "    </tr>\n",
       "    <tr>\n",
       "      <th>315</th>\n",
       "      <td>2020-11-11</td>\n",
       "      <td>415</td>\n",
       "    </tr>\n",
       "    <tr>\n",
       "      <th>316</th>\n",
       "      <td>2020-11-12</td>\n",
       "      <td>473</td>\n",
       "    </tr>\n",
       "    <tr>\n",
       "      <th>317</th>\n",
       "      <td>2020-11-13</td>\n",
       "      <td>375</td>\n",
       "    </tr>\n",
       "    <tr>\n",
       "      <th>318</th>\n",
       "      <td>2020-11-14</td>\n",
       "      <td>300</td>\n",
       "    </tr>\n",
       "    <tr>\n",
       "      <th>319</th>\n",
       "      <td>2020-11-15</td>\n",
       "      <td>249</td>\n",
       "    </tr>\n",
       "    <tr>\n",
       "      <th>320</th>\n",
       "      <td>2020-11-16</td>\n",
       "      <td>439</td>\n",
       "    </tr>\n",
       "    <tr>\n",
       "      <th>321</th>\n",
       "      <td>2020-11-17</td>\n",
       "      <td>472</td>\n",
       "    </tr>\n",
       "    <tr>\n",
       "      <th>322</th>\n",
       "      <td>2020-11-18</td>\n",
       "      <td>425</td>\n",
       "    </tr>\n",
       "    <tr>\n",
       "      <th>323</th>\n",
       "      <td>2020-11-19</td>\n",
       "      <td>515</td>\n",
       "    </tr>\n",
       "    <tr>\n",
       "      <th>324</th>\n",
       "      <td>2020-11-20</td>\n",
       "      <td>370</td>\n",
       "    </tr>\n",
       "    <tr>\n",
       "      <th>325</th>\n",
       "      <td>2020-11-21</td>\n",
       "      <td>290</td>\n",
       "    </tr>\n",
       "    <tr>\n",
       "      <th>326</th>\n",
       "      <td>2020-11-22</td>\n",
       "      <td>242</td>\n",
       "    </tr>\n",
       "    <tr>\n",
       "      <th>327</th>\n",
       "      <td>2020-11-23</td>\n",
       "      <td>431</td>\n",
       "    </tr>\n",
       "    <tr>\n",
       "      <th>328</th>\n",
       "      <td>2020-11-24</td>\n",
       "      <td>482</td>\n",
       "    </tr>\n",
       "    <tr>\n",
       "      <th>329</th>\n",
       "      <td>2020-11-25</td>\n",
       "      <td>446</td>\n",
       "    </tr>\n",
       "    <tr>\n",
       "      <th>330</th>\n",
       "      <td>2020-11-26</td>\n",
       "      <td>483</td>\n",
       "    </tr>\n",
       "    <tr>\n",
       "      <th>331</th>\n",
       "      <td>2020-11-27</td>\n",
       "      <td>379</td>\n",
       "    </tr>\n",
       "    <tr>\n",
       "      <th>332</th>\n",
       "      <td>2020-11-28</td>\n",
       "      <td>294</td>\n",
       "    </tr>\n",
       "    <tr>\n",
       "      <th>333</th>\n",
       "      <td>2020-11-29</td>\n",
       "      <td>262</td>\n",
       "    </tr>\n",
       "    <tr>\n",
       "      <th>334</th>\n",
       "      <td>2020-11-30</td>\n",
       "      <td>458</td>\n",
       "    </tr>\n",
       "    <tr>\n",
       "      <th>335</th>\n",
       "      <td>2020-12-01</td>\n",
       "      <td>470</td>\n",
       "    </tr>\n",
       "    <tr>\n",
       "      <th>336</th>\n",
       "      <td>2020-12-02</td>\n",
       "      <td>411</td>\n",
       "    </tr>\n",
       "    <tr>\n",
       "      <th>337</th>\n",
       "      <td>2020-12-03</td>\n",
       "      <td>486</td>\n",
       "    </tr>\n",
       "    <tr>\n",
       "      <th>338</th>\n",
       "      <td>2020-12-04</td>\n",
       "      <td>365</td>\n",
       "    </tr>\n",
       "    <tr>\n",
       "      <th>339</th>\n",
       "      <td>2020-12-05</td>\n",
       "      <td>292</td>\n",
       "    </tr>\n",
       "    <tr>\n",
       "      <th>340</th>\n",
       "      <td>2020-12-06</td>\n",
       "      <td>250</td>\n",
       "    </tr>\n",
       "    <tr>\n",
       "      <th>341</th>\n",
       "      <td>2020-12-07</td>\n",
       "      <td>451</td>\n",
       "    </tr>\n",
       "    <tr>\n",
       "      <th>342</th>\n",
       "      <td>2020-12-08</td>\n",
       "      <td>3</td>\n",
       "    </tr>\n",
       "  </tbody>\n",
       "</table>\n",
       "<p>343 rows × 2 columns</p>\n",
       "</div>"
      ],
      "text/plain": [
       "           date  workout_count\n",
       "0    2020-01-01              1\n",
       "1    2020-01-02              4\n",
       "2    2020-01-03              5\n",
       "3    2020-01-04              5\n",
       "4    2020-01-05              9\n",
       "5    2020-01-06             13\n",
       "6    2020-01-07              8\n",
       "7    2020-01-08             19\n",
       "8    2020-01-09             19\n",
       "9    2020-01-10             24\n",
       "10   2020-01-11             27\n",
       "11   2020-01-12             12\n",
       "12   2020-01-13             31\n",
       "13   2020-01-14             39\n",
       "14   2020-01-15             42\n",
       "15   2020-01-16             40\n",
       "16   2020-01-17             50\n",
       "17   2020-01-18             30\n",
       "18   2020-01-19             38\n",
       "19   2020-01-20             69\n",
       "20   2020-01-21             57\n",
       "21   2020-01-22             68\n",
       "22   2020-01-23             68\n",
       "23   2020-01-24             63\n",
       "24   2020-01-25             53\n",
       "25   2020-01-26             49\n",
       "26   2020-01-27             78\n",
       "27   2020-01-28             92\n",
       "28   2020-01-29             93\n",
       "29   2020-01-30             90\n",
       "..          ...            ...\n",
       "313  2020-11-09            452\n",
       "314  2020-11-10            467\n",
       "315  2020-11-11            415\n",
       "316  2020-11-12            473\n",
       "317  2020-11-13            375\n",
       "318  2020-11-14            300\n",
       "319  2020-11-15            249\n",
       "320  2020-11-16            439\n",
       "321  2020-11-17            472\n",
       "322  2020-11-18            425\n",
       "323  2020-11-19            515\n",
       "324  2020-11-20            370\n",
       "325  2020-11-21            290\n",
       "326  2020-11-22            242\n",
       "327  2020-11-23            431\n",
       "328  2020-11-24            482\n",
       "329  2020-11-25            446\n",
       "330  2020-11-26            483\n",
       "331  2020-11-27            379\n",
       "332  2020-11-28            294\n",
       "333  2020-11-29            262\n",
       "334  2020-11-30            458\n",
       "335  2020-12-01            470\n",
       "336  2020-12-02            411\n",
       "337  2020-12-03            486\n",
       "338  2020-12-04            365\n",
       "339  2020-12-05            292\n",
       "340  2020-12-06            250\n",
       "341  2020-12-07            451\n",
       "342  2020-12-08              3\n",
       "\n",
       "[343 rows x 2 columns]"
      ]
     },
     "execution_count": 16,
     "metadata": {},
     "output_type": "execute_result"
    }
   ],
   "source": [
    "trainings_by_day # посмотрим, в каком формате лежат нужные данные"
   ]
  },
  {
   "cell_type": "code",
   "execution_count": 17,
   "metadata": {},
   "outputs": [
    {
     "data": {
      "text/plain": [
       "305.2274052478134"
      ]
     },
     "execution_count": 17,
     "metadata": {},
     "output_type": "execute_result"
    }
   ],
   "source": [
    "mean_train_day = trainings_by_day.workout_count.mean()\n",
    "mean_train_day"
   ]
  },
  {
   "cell_type": "code",
   "execution_count": 18,
   "metadata": {},
   "outputs": [],
   "source": [
    "trainings_by_day.columns=['workouts_date', 'workouts']  # переименуем столбцы, чтобы названия соответствовали содержимому"
   ]
  },
  {
   "cell_type": "code",
   "execution_count": 19,
   "metadata": {},
   "outputs": [],
   "source": [
    "trainings_by_day = trainings_by_day.reset_index() # сбросим индекс"
   ]
  },
  {
   "cell_type": "code",
   "execution_count": 20,
   "metadata": {},
   "outputs": [
    {
     "data": {
      "text/html": [
       "<div>\n",
       "<style scoped>\n",
       "    .dataframe tbody tr th:only-of-type {\n",
       "        vertical-align: middle;\n",
       "    }\n",
       "\n",
       "    .dataframe tbody tr th {\n",
       "        vertical-align: top;\n",
       "    }\n",
       "\n",
       "    .dataframe thead th {\n",
       "        text-align: right;\n",
       "    }\n",
       "</style>\n",
       "<table border=\"1\" class=\"dataframe\">\n",
       "  <thead>\n",
       "    <tr style=\"text-align: right;\">\n",
       "      <th></th>\n",
       "      <th>index</th>\n",
       "      <th>workouts_date</th>\n",
       "      <th>workouts</th>\n",
       "    </tr>\n",
       "  </thead>\n",
       "  <tbody>\n",
       "    <tr>\n",
       "      <th>0</th>\n",
       "      <td>0</td>\n",
       "      <td>2020-01-01</td>\n",
       "      <td>1</td>\n",
       "    </tr>\n",
       "    <tr>\n",
       "      <th>1</th>\n",
       "      <td>1</td>\n",
       "      <td>2020-01-02</td>\n",
       "      <td>4</td>\n",
       "    </tr>\n",
       "    <tr>\n",
       "      <th>2</th>\n",
       "      <td>2</td>\n",
       "      <td>2020-01-03</td>\n",
       "      <td>5</td>\n",
       "    </tr>\n",
       "    <tr>\n",
       "      <th>3</th>\n",
       "      <td>3</td>\n",
       "      <td>2020-01-04</td>\n",
       "      <td>5</td>\n",
       "    </tr>\n",
       "    <tr>\n",
       "      <th>4</th>\n",
       "      <td>4</td>\n",
       "      <td>2020-01-05</td>\n",
       "      <td>9</td>\n",
       "    </tr>\n",
       "  </tbody>\n",
       "</table>\n",
       "</div>"
      ],
      "text/plain": [
       "   index workouts_date  workouts\n",
       "0      0    2020-01-01         1\n",
       "1      1    2020-01-02         4\n",
       "2      2    2020-01-03         5\n",
       "3      3    2020-01-04         5\n",
       "4      4    2020-01-05         9"
      ]
     },
     "execution_count": 20,
     "metadata": {},
     "output_type": "execute_result"
    }
   ],
   "source": [
    "trainings_by_day.head()"
   ]
  },
  {
   "cell_type": "code",
   "execution_count": 21,
   "metadata": {},
   "outputs": [],
   "source": [
    "trainings_by_day.workouts_date = pd.to_datetime(trainings_by_day.workouts_date)\n",
    "trainings_by_day['week_day_num'] = trainings_by_day['workouts_date'].dt.weekday # добавим номер дня недели\n",
    "trainings_by_day['week_day_name'] = trainings_by_day['workouts_date'].dt.day_name() # добавим название дня недели\n",
    "trainings_by_day['week_day_num'] += 1 #Мы видим, что нумерация начинается с 0 до 6. Чтобы дни недели выглядели привычнее, добавим к номеру дня 1."
   ]
  },
  {
   "cell_type": "code",
   "execution_count": 22,
   "metadata": {},
   "outputs": [
    {
     "data": {
      "text/html": [
       "<div>\n",
       "<style scoped>\n",
       "    .dataframe tbody tr th:only-of-type {\n",
       "        vertical-align: middle;\n",
       "    }\n",
       "\n",
       "    .dataframe tbody tr th {\n",
       "        vertical-align: top;\n",
       "    }\n",
       "\n",
       "    .dataframe thead th {\n",
       "        text-align: right;\n",
       "    }\n",
       "</style>\n",
       "<table border=\"1\" class=\"dataframe\">\n",
       "  <thead>\n",
       "    <tr style=\"text-align: right;\">\n",
       "      <th></th>\n",
       "      <th>index</th>\n",
       "      <th>workouts_date</th>\n",
       "      <th>workouts</th>\n",
       "      <th>week_day_num</th>\n",
       "      <th>week_day_name</th>\n",
       "    </tr>\n",
       "  </thead>\n",
       "  <tbody>\n",
       "    <tr>\n",
       "      <th>0</th>\n",
       "      <td>0</td>\n",
       "      <td>2020-01-01</td>\n",
       "      <td>1</td>\n",
       "      <td>3</td>\n",
       "      <td>Wednesday</td>\n",
       "    </tr>\n",
       "    <tr>\n",
       "      <th>1</th>\n",
       "      <td>1</td>\n",
       "      <td>2020-01-02</td>\n",
       "      <td>4</td>\n",
       "      <td>4</td>\n",
       "      <td>Thursday</td>\n",
       "    </tr>\n",
       "    <tr>\n",
       "      <th>2</th>\n",
       "      <td>2</td>\n",
       "      <td>2020-01-03</td>\n",
       "      <td>5</td>\n",
       "      <td>5</td>\n",
       "      <td>Friday</td>\n",
       "    </tr>\n",
       "    <tr>\n",
       "      <th>3</th>\n",
       "      <td>3</td>\n",
       "      <td>2020-01-04</td>\n",
       "      <td>5</td>\n",
       "      <td>6</td>\n",
       "      <td>Saturday</td>\n",
       "    </tr>\n",
       "    <tr>\n",
       "      <th>4</th>\n",
       "      <td>4</td>\n",
       "      <td>2020-01-05</td>\n",
       "      <td>9</td>\n",
       "      <td>7</td>\n",
       "      <td>Sunday</td>\n",
       "    </tr>\n",
       "  </tbody>\n",
       "</table>\n",
       "</div>"
      ],
      "text/plain": [
       "   index workouts_date  workouts  week_day_num week_day_name\n",
       "0      0    2020-01-01         1             3     Wednesday\n",
       "1      1    2020-01-02         4             4      Thursday\n",
       "2      2    2020-01-03         5             5        Friday\n",
       "3      3    2020-01-04         5             6      Saturday\n",
       "4      4    2020-01-05         9             7        Sunday"
      ]
     },
     "execution_count": 22,
     "metadata": {},
     "output_type": "execute_result"
    }
   ],
   "source": [
    "trainings_by_day.head()"
   ]
  },
  {
   "cell_type": "code",
   "execution_count": 23,
   "metadata": {},
   "outputs": [
    {
     "data": {
      "text/html": [
       "<div>\n",
       "<style scoped>\n",
       "    .dataframe tbody tr th:only-of-type {\n",
       "        vertical-align: middle;\n",
       "    }\n",
       "\n",
       "    .dataframe tbody tr th {\n",
       "        vertical-align: top;\n",
       "    }\n",
       "\n",
       "    .dataframe thead th {\n",
       "        text-align: right;\n",
       "    }\n",
       "</style>\n",
       "<table border=\"1\" class=\"dataframe\">\n",
       "  <thead>\n",
       "    <tr style=\"text-align: right;\">\n",
       "      <th></th>\n",
       "      <th>week_day_num</th>\n",
       "      <th>workouts</th>\n",
       "    </tr>\n",
       "  </thead>\n",
       "  <tbody>\n",
       "    <tr>\n",
       "      <th>0</th>\n",
       "      <td>1</td>\n",
       "      <td>366.387755</td>\n",
       "    </tr>\n",
       "    <tr>\n",
       "      <th>1</th>\n",
       "      <td>2</td>\n",
       "      <td>349.673469</td>\n",
       "    </tr>\n",
       "    <tr>\n",
       "      <th>2</th>\n",
       "      <td>3</td>\n",
       "      <td>332.857143</td>\n",
       "    </tr>\n",
       "    <tr>\n",
       "      <th>3</th>\n",
       "      <td>4</td>\n",
       "      <td>365.244898</td>\n",
       "    </tr>\n",
       "    <tr>\n",
       "      <th>4</th>\n",
       "      <td>5</td>\n",
       "      <td>304.326531</td>\n",
       "    </tr>\n",
       "    <tr>\n",
       "      <th>5</th>\n",
       "      <td>6</td>\n",
       "      <td>227.959184</td>\n",
       "    </tr>\n",
       "    <tr>\n",
       "      <th>6</th>\n",
       "      <td>7</td>\n",
       "      <td>190.142857</td>\n",
       "    </tr>\n",
       "  </tbody>\n",
       "</table>\n",
       "</div>"
      ],
      "text/plain": [
       "   week_day_num    workouts\n",
       "0             1  366.387755\n",
       "1             2  349.673469\n",
       "2             3  332.857143\n",
       "3             4  365.244898\n",
       "4             5  304.326531\n",
       "5             6  227.959184\n",
       "6             7  190.142857"
      ]
     },
     "execution_count": 23,
     "metadata": {},
     "output_type": "execute_result"
    }
   ],
   "source": [
    "#Задача: сгруппируй данные колонки week_day_num по workouts с подсчетом среднего.\n",
    "trainings_by_day_mean = trainings_by_day.groupby('week_day_num',as_index=False).agg({'workouts':'mean'})\n",
    "trainings_by_day_mean"
   ]
  },
  {
   "cell_type": "code",
   "execution_count": 24,
   "metadata": {},
   "outputs": [],
   "source": [
    "#Задача:Построй bar chart. \n",
    "#Можешь добавить любые агрументы, но обязательно используй вот эти:"
   ]
  },
  {
   "cell_type": "code",
   "execution_count": 25,
   "metadata": {},
   "outputs": [
    {
     "data": {
      "text/plain": [
       "Text(0, 0.5, 'Среднее количество тренировок')"
      ]
     },
     "execution_count": 25,
     "metadata": {},
     "output_type": "execute_result"
    },
    {
     "data": {
      "image/png": "[encoded data removed]",
      "text/plain": [
       "<Figure size 576x288 with 1 Axes>"
      ]
     },
     "metadata": {
      "needs_background": "light"
     },
     "output_type": "display_data"
    }
   ],
   "source": [
    "fig = plt.figure(figsize=(8, 4))\n",
    "sns.barplot(trainings_by_day_mean.week_day_num ,trainings_by_day_mean.workouts,palette='inferno') \n",
    "plt.axhline( mean_train_day, color='k', linestyle='--', linewidth=2)\n",
    "plt.title(\"Среднее количество тренировок в разрезе дней недели\")\n",
    "plt.xlabel(\"День недели\")\n",
    "plt.ylabel(\"Среднее количество тренировок\")\n"
   ]
  },
  {
   "cell_type": "markdown",
   "metadata": {},
   "source": [
    "## Задание 3\n",
    "\n",
    "В ноябре постоянные тренеры жаловались на перегрузку. При этом,  в одних департаментах часто не хватало тренеров, а в других люди сидели без работы. \n",
    "\n",
    "**Построй гистограмму, которая покажет, как были распределены тренировки за ноябрь по тренерам, которые уже работали в нашей компании до 1 ноября и сделай отдельный график по каждому департаменту (всего их 7).**\n",
    "\n",
    "Как это сделать:\n",
    "\n",
    "1. Внимательно изучи код, который мы подготовили, и запусти ячейки. Что мы сделали:\n",
    "    - отобрали тренеров, которые уже проводили тренировки до начала ноября\n",
    "    - взяли тренировки, которые прошли в ноябре\n",
    "    - выбрали из них те, которые провели ранее отобранные тренеры\n",
    "    \n",
    "\n",
    "2. Для каждого департамента: \n",
    "\n",
    "    - отфильтруй по trainer_department тренировки нужного департамента\n",
    "    - построй гистограмму распределения тренеров по количеству проведенных тренировок. Можешь добавить любые аргументы, но обязательно используй вот эти:\n",
    "        - размер графика\n",
    "        - название графика\n",
    "        - подпись оси X\n",
    "        - подпись оси Y\n",
    "        - задай цвет на графике\n",
    "        - задай 5 столбцов\n",
    "        \n",
    " \n",
    "\n",
    "*Весь код можно написать в одной ячейке.*\n",
    "\n",
    "*Можешь воспользоваться циклом for из раздела Extra занятия.*\n",
    "\n",
    "**Подготовим данные**\n"
   ]
  },
  {
   "cell_type": "code",
   "execution_count": 26,
   "metadata": {},
   "outputs": [
    {
     "data": {
      "text/html": [
       "<div>\n",
       "<style scoped>\n",
       "    .dataframe tbody tr th:only-of-type {\n",
       "        vertical-align: middle;\n",
       "    }\n",
       "\n",
       "    .dataframe tbody tr th {\n",
       "        vertical-align: top;\n",
       "    }\n",
       "\n",
       "    .dataframe thead th {\n",
       "        text-align: right;\n",
       "    }\n",
       "</style>\n",
       "<table border=\"1\" class=\"dataframe\">\n",
       "  <thead>\n",
       "    <tr style=\"text-align: right;\">\n",
       "      <th></th>\n",
       "      <th>workout_id</th>\n",
       "      <th>cost</th>\n",
       "      <th>start_at</th>\n",
       "      <th>status</th>\n",
       "      <th>workout_schedule_type</th>\n",
       "      <th>client_id</th>\n",
       "      <th>client_status</th>\n",
       "      <th>workout_type</th>\n",
       "      <th>trainer_department</th>\n",
       "      <th>trainer_id</th>\n",
       "      <th>date</th>\n",
       "      <th>day_of_week</th>\n",
       "    </tr>\n",
       "  </thead>\n",
       "  <tbody>\n",
       "    <tr>\n",
       "      <th>0</th>\n",
       "      <td>30793909</td>\n",
       "      <td>NaN</td>\n",
       "      <td>2020-11-13 12:45:00</td>\n",
       "      <td>success</td>\n",
       "      <td>trial</td>\n",
       "      <td>22034</td>\n",
       "      <td>NaN</td>\n",
       "      <td>general</td>\n",
       "      <td>Sales</td>\n",
       "      <td>10722051</td>\n",
       "      <td>2020-11-13</td>\n",
       "      <td>4</td>\n",
       "    </tr>\n",
       "    <tr>\n",
       "      <th>1</th>\n",
       "      <td>31123309</td>\n",
       "      <td>750.0</td>\n",
       "      <td>2020-11-21 13:00:00</td>\n",
       "      <td>success</td>\n",
       "      <td>regular</td>\n",
       "      <td>22034</td>\n",
       "      <td>new</td>\n",
       "      <td>general</td>\n",
       "      <td>Spartacus</td>\n",
       "      <td>940642</td>\n",
       "      <td>2020-11-21</td>\n",
       "      <td>5</td>\n",
       "    </tr>\n",
       "    <tr>\n",
       "      <th>2</th>\n",
       "      <td>31412167</td>\n",
       "      <td>750.0</td>\n",
       "      <td>2020-11-28 13:00:00</td>\n",
       "      <td>success</td>\n",
       "      <td>regular</td>\n",
       "      <td>22034</td>\n",
       "      <td>new</td>\n",
       "      <td>general</td>\n",
       "      <td>Spartacus</td>\n",
       "      <td>940642</td>\n",
       "      <td>2020-11-28</td>\n",
       "      <td>5</td>\n",
       "    </tr>\n",
       "    <tr>\n",
       "      <th>3</th>\n",
       "      <td>31703605</td>\n",
       "      <td>750.0</td>\n",
       "      <td>2020-12-05 13:00:00</td>\n",
       "      <td>success</td>\n",
       "      <td>regular</td>\n",
       "      <td>22034</td>\n",
       "      <td>active</td>\n",
       "      <td>general</td>\n",
       "      <td>Spartacus</td>\n",
       "      <td>940642</td>\n",
       "      <td>2020-12-05</td>\n",
       "      <td>5</td>\n",
       "    </tr>\n",
       "    <tr>\n",
       "      <th>4</th>\n",
       "      <td>26904500</td>\n",
       "      <td>NaN</td>\n",
       "      <td>2020-08-06 18:20:00</td>\n",
       "      <td>success</td>\n",
       "      <td>trial</td>\n",
       "      <td>88101</td>\n",
       "      <td>NaN</td>\n",
       "      <td>general</td>\n",
       "      <td>Sales</td>\n",
       "      <td>3826530</td>\n",
       "      <td>2020-08-06</td>\n",
       "      <td>3</td>\n",
       "    </tr>\n",
       "  </tbody>\n",
       "</table>\n",
       "</div>"
      ],
      "text/plain": [
       "   workout_id   cost            start_at   status workout_schedule_type  \\\n",
       "0    30793909    NaN 2020-11-13 12:45:00  success                 trial   \n",
       "1    31123309  750.0 2020-11-21 13:00:00  success               regular   \n",
       "2    31412167  750.0 2020-11-28 13:00:00  success               regular   \n",
       "3    31703605  750.0 2020-12-05 13:00:00  success               regular   \n",
       "4    26904500    NaN 2020-08-06 18:20:00  success                 trial   \n",
       "\n",
       "   client_id client_status workout_type trainer_department  trainer_id  \\\n",
       "0      22034           NaN      general              Sales    10722051   \n",
       "1      22034           new      general          Spartacus      940642   \n",
       "2      22034           new      general          Spartacus      940642   \n",
       "3      22034        active      general          Spartacus      940642   \n",
       "4      88101           NaN      general              Sales     3826530   \n",
       "\n",
       "         date  day_of_week  \n",
       "0  2020-11-13            4  \n",
       "1  2020-11-21            5  \n",
       "2  2020-11-28            5  \n",
       "3  2020-12-05            5  \n",
       "4  2020-08-06            3  "
      ]
     },
     "execution_count": 26,
     "metadata": {},
     "output_type": "execute_result"
    }
   ],
   "source": [
    "workouts.head()"
   ]
  },
  {
   "cell_type": "code",
   "execution_count": 27,
   "metadata": {},
   "outputs": [
    {
     "data": {
      "text/html": [
       "<div>\n",
       "<style scoped>\n",
       "    .dataframe tbody tr th:only-of-type {\n",
       "        vertical-align: middle;\n",
       "    }\n",
       "\n",
       "    .dataframe tbody tr th {\n",
       "        vertical-align: top;\n",
       "    }\n",
       "\n",
       "    .dataframe thead th {\n",
       "        text-align: right;\n",
       "    }\n",
       "</style>\n",
       "<table border=\"1\" class=\"dataframe\">\n",
       "  <thead>\n",
       "    <tr style=\"text-align: right;\">\n",
       "      <th></th>\n",
       "      <th>trainer_id</th>\n",
       "      <th>client_id</th>\n",
       "    </tr>\n",
       "    <tr>\n",
       "      <th>trainer_department</th>\n",
       "      <th></th>\n",
       "      <th></th>\n",
       "    </tr>\n",
       "  </thead>\n",
       "  <tbody>\n",
       "    <tr>\n",
       "      <th>Athletic</th>\n",
       "      <td>67</td>\n",
       "      <td>59</td>\n",
       "    </tr>\n",
       "    <tr>\n",
       "      <th>Consultant</th>\n",
       "      <td>739</td>\n",
       "      <td>849</td>\n",
       "    </tr>\n",
       "    <tr>\n",
       "      <th>Cycling</th>\n",
       "      <td>67</td>\n",
       "      <td>67</td>\n",
       "    </tr>\n",
       "    <tr>\n",
       "      <th>Dinamo</th>\n",
       "      <td>344</td>\n",
       "      <td>298</td>\n",
       "    </tr>\n",
       "    <tr>\n",
       "      <th>Sales</th>\n",
       "      <td>799</td>\n",
       "      <td>4257</td>\n",
       "    </tr>\n",
       "    <tr>\n",
       "      <th>Spartacus</th>\n",
       "      <td>3044</td>\n",
       "      <td>3610</td>\n",
       "    </tr>\n",
       "    <tr>\n",
       "      <th>Sports Reserves</th>\n",
       "      <td>340</td>\n",
       "      <td>370</td>\n",
       "    </tr>\n",
       "  </tbody>\n",
       "</table>\n",
       "</div>"
      ],
      "text/plain": [
       "                    trainer_id  client_id\n",
       "trainer_department                       \n",
       "Athletic                    67         59\n",
       "Consultant                 739        849\n",
       "Cycling                     67         67\n",
       "Dinamo                     344        298\n",
       "Sales                      799       4257\n",
       "Spartacus                 3044       3610\n",
       "Sports Reserves            340        370"
      ]
     },
     "execution_count": 27,
     "metadata": {},
     "output_type": "execute_result"
    }
   ],
   "source": [
    "workouts.groupby('trainer_department').agg({'trainer_id':'nunique','client_id':'nunique'}) \n",
    "#тренеров получается почти столько же сколько и клиентов ?????"
   ]
  },
  {
   "cell_type": "code",
   "execution_count": 28,
   "metadata": {},
   "outputs": [
    {
     "data": {
      "text/plain": [
       "1    4074\n",
       "2     663\n",
       "0      14\n",
       "Name: trainer_department, dtype: int64"
      ]
     },
     "execution_count": 28,
     "metadata": {},
     "output_type": "execute_result"
    }
   ],
   "source": [
    "x = workouts.groupby('trainer_id',as_index=False).agg({'trainer_department':'nunique'})\n",
    "x = x.trainer_department.sort_values(ascending=False)\n",
    "x.value_counts() #посмотрел в скольких департаментах присутвуют тренеры, большая часть только в одном департаменте"
   ]
  },
  {
   "cell_type": "code",
   "execution_count": 29,
   "metadata": {},
   "outputs": [
    {
     "data": {
      "text/plain": [
       "Text(0, 0.5, 'Количество тренеров')"
      ]
     },
     "execution_count": 29,
     "metadata": {},
     "output_type": "execute_result"
    },
    {
     "data": {
      "image/png": "[encoded data removed]",
      "text/plain": [
       "<Figure size 432x288 with 1 Axes>"
      ]
     },
     "metadata": {
      "needs_background": "light"
     },
     "output_type": "display_data"
    }
   ],
   "source": [
    "workouts.trainer_id.value_counts().sort_values().hist(bins=50)\n",
    "plt.title(\"Распределение тренеров по количеству тренировок за весь год\")\n",
    "plt.xlabel(\"Количество тренировок\")\n",
    "plt.ylabel(\"Количество тренеров\")\n",
    "# большая часть тренеров имеет очень маленькое количество тренировок, при учете что данные за год, то это совсем мало"
   ]
  },
  {
   "cell_type": "code",
   "execution_count": 30,
   "metadata": {},
   "outputs": [],
   "source": [
    "#выбрали тренеров, которые вели тренировки до 1 ноября\n",
    "trainers_select = workouts['trainer_id'].loc[workouts['start_at'] < '2020-11-01'] \n",
    "\n",
    "#множеством взяли уникальные значения\n",
    "trainers_select = set(trainers_select) "
   ]
  },
  {
   "cell_type": "code",
   "execution_count": 31,
   "metadata": {},
   "outputs": [
    {
     "data": {
      "text/plain": [
       "4462"
      ]
     },
     "execution_count": 31,
     "metadata": {},
     "output_type": "execute_result"
    }
   ],
   "source": [
    "len(trainers_select)"
   ]
  },
  {
   "cell_type": "code",
   "execution_count": 32,
   "metadata": {},
   "outputs": [],
   "source": [
    "# взяли тренировки только за ноябрь\n",
    "november_workouts = workouts.loc[workouts['start_at'].dt.month == 11] "
   ]
  },
  {
   "cell_type": "code",
   "execution_count": 33,
   "metadata": {},
   "outputs": [
    {
     "data": {
      "text/plain": [
       "(11698, 12)"
      ]
     },
     "execution_count": 33,
     "metadata": {},
     "output_type": "execute_result"
    }
   ],
   "source": [
    "november_workouts.shape # около 389 тренировок в день"
   ]
  },
  {
   "cell_type": "code",
   "execution_count": 34,
   "metadata": {},
   "outputs": [],
   "source": [
    "# берем только активных тренеров\n",
    "november_workouts = november_workouts.loc[november_workouts['trainer_id'].isin(trainers_select)] "
   ]
  },
  {
   "cell_type": "code",
   "execution_count": 35,
   "metadata": {},
   "outputs": [
    {
     "data": {
      "text/plain": [
       "1607"
      ]
     },
     "execution_count": 35,
     "metadata": {},
     "output_type": "execute_result"
    }
   ],
   "source": [
    "november_workouts.trainer_id.nunique() \n",
    "# 1607 тренеров в ноябре ??? Какого размера  сеть фитнес клубов ???"
   ]
  },
  {
   "cell_type": "code",
   "execution_count": 36,
   "metadata": {},
   "outputs": [
    {
     "data": {
      "text/html": [
       "<div>\n",
       "<style scoped>\n",
       "    .dataframe tbody tr th:only-of-type {\n",
       "        vertical-align: middle;\n",
       "    }\n",
       "\n",
       "    .dataframe tbody tr th {\n",
       "        vertical-align: top;\n",
       "    }\n",
       "\n",
       "    .dataframe thead th {\n",
       "        text-align: right;\n",
       "    }\n",
       "</style>\n",
       "<table border=\"1\" class=\"dataframe\">\n",
       "  <thead>\n",
       "    <tr style=\"text-align: right;\">\n",
       "      <th></th>\n",
       "      <th>trainer_id</th>\n",
       "      <th>trainer_department</th>\n",
       "      <th>workouts</th>\n",
       "    </tr>\n",
       "  </thead>\n",
       "  <tbody>\n",
       "    <tr>\n",
       "      <th>0</th>\n",
       "      <td>1994</td>\n",
       "      <td>Spartacus</td>\n",
       "      <td>26</td>\n",
       "    </tr>\n",
       "    <tr>\n",
       "      <th>1</th>\n",
       "      <td>4446</td>\n",
       "      <td>Spartacus</td>\n",
       "      <td>9</td>\n",
       "    </tr>\n",
       "    <tr>\n",
       "      <th>2</th>\n",
       "      <td>9256</td>\n",
       "      <td>Spartacus</td>\n",
       "      <td>9</td>\n",
       "    </tr>\n",
       "    <tr>\n",
       "      <th>3</th>\n",
       "      <td>14431</td>\n",
       "      <td>Spartacus</td>\n",
       "      <td>11</td>\n",
       "    </tr>\n",
       "    <tr>\n",
       "      <th>4</th>\n",
       "      <td>15062</td>\n",
       "      <td>Spartacus</td>\n",
       "      <td>8</td>\n",
       "    </tr>\n",
       "  </tbody>\n",
       "</table>\n",
       "</div>"
      ],
      "text/plain": [
       "   trainer_id trainer_department  workouts\n",
       "0        1994          Spartacus        26\n",
       "1        4446          Spartacus         9\n",
       "2        9256          Spartacus         9\n",
       "3       14431          Spartacus        11\n",
       "4       15062          Spartacus         8"
      ]
     },
     "execution_count": 36,
     "metadata": {},
     "output_type": "execute_result"
    }
   ],
   "source": [
    "#кол-во тренировок у каждого тренера\n",
    "workouts_by_trainer = november_workouts.groupby(['trainer_id','trainer_department'])['workout_id'].count() \n",
    "\n",
    "# превращаем серию в dataframe, сбрасываем индекс\n",
    "workouts_by_trainer = workouts_by_trainer.reset_index() \n",
    "\n",
    "# переименовываем столбец workout_id, ведь в нем теперь количество тренировок\n",
    "workouts_by_trainer.columns = ['trainer_id','trainer_department','workouts'] \n",
    "\n",
    "workouts_by_trainer.head()"
   ]
  },
  {
   "cell_type": "code",
   "execution_count": 37,
   "metadata": {},
   "outputs": [
    {
     "data": {
      "text/plain": [
       "1607"
      ]
     },
     "execution_count": 37,
     "metadata": {},
     "output_type": "execute_result"
    }
   ],
   "source": [
    "workouts_by_trainer.trainer_id.nunique() #1607 уникальных тренеров за ноябрь ?, очень странная цифра для фитнес клуба"
   ]
  },
  {
   "cell_type": "code",
   "execution_count": 38,
   "metadata": {},
   "outputs": [
    {
     "data": {
      "text/plain": [
       "{'Athletic',\n",
       " 'Consultant',\n",
       " 'Cycling',\n",
       " 'Dinamo',\n",
       " 'Sales',\n",
       " 'Spartacus',\n",
       " 'Sports Reserves'}"
      ]
     },
     "execution_count": 38,
     "metadata": {},
     "output_type": "execute_result"
    }
   ],
   "source": [
    "# посмотрим, какие у нас есть департаменты\n",
    "departments = set(workouts_by_trainer['trainer_department'])\n",
    "departments"
   ]
  },
  {
   "cell_type": "code",
   "execution_count": 39,
   "metadata": {},
   "outputs": [
    {
     "data": {
      "text/plain": [
       "<matplotlib.legend.Legend at 0x28c8f3f5978>"
      ]
     },
     "execution_count": 39,
     "metadata": {},
     "output_type": "execute_result"
    },
    {
     "data": {
      "image/png": "[encoded data removed]",
      "text/plain": [
       "<Figure size 576x288 with 1 Axes>"
      ]
     },
     "metadata": {
      "needs_background": "light"
     },
     "output_type": "display_data"
    }
   ],
   "source": [
    "fig = plt.figure(figsize=(8, 4))\n",
    "workouts_by_trainer.workouts.hist(bins=6, label='All_Departments')\n",
    "plt.title(\"Распределение по количеству тренировок на одного тренера по всем отделам\")\n",
    "plt.xlabel(\"Количество тренировок\")\n",
    "plt.ylabel(\"Количество тренеров\")\n",
    "plt.legend()"
   ]
  },
  {
   "cell_type": "code",
   "execution_count": 40,
   "metadata": {},
   "outputs": [
    {
     "data": {
      "text/plain": [
       "<matplotlib.legend.Legend at 0x28c8f3e3518>"
      ]
     },
     "execution_count": 40,
     "metadata": {},
     "output_type": "execute_result"
    },
    {
     "data": {
      "image/png": "[encoded data removed]",
      "text/plain": [
       "<Figure size 576x288 with 1 Axes>"
      ]
     },
     "metadata": {
      "needs_background": "light"
     },
     "output_type": "display_data"
    }
   ],
   "source": [
    "fig = plt.figure(figsize=(8, 4))\n",
    "\n",
    "plt.hist(workouts_by_trainer.query('trainer_department==\"Spartacus\"').workouts, label='Spartacus',bins=5,color = \"darkblue\")\n",
    "plt.hist(workouts_by_trainer.query('trainer_department==\"Sales\"').workouts, label='Sales',bins=5, color='darkgreen')\n",
    "plt.hist(workouts_by_trainer.query('trainer_department==\"Consultant\"').workouts, label='Consultant',bins=5, color='darkcyan')\n",
    "plt.hist(workouts_by_trainer.query('trainer_department==\"Cycling\"').workouts, label='Cycling',bins=5, color='darkgray')\n",
    "plt.hist(workouts_by_trainer.query('trainer_department==\"Dinamo\"').workouts, label='Dinamo',bins=5,color=\"darksalmon\")\n",
    "plt.hist(workouts_by_trainer.query('trainer_department==\"Sports Reserves\"').workouts, label='Sports Reserves',bins=5, color='darkred')\n",
    "plt.title(\"Распределение по количеству тренировок на одного тренера в разрезе отделов\")\n",
    "plt.xlabel(\"Количество тренировок\")\n",
    "plt.ylabel(\"Количество тренеров\")\n",
    "plt.legend()"
   ]
  },
  {
   "cell_type": "code",
   "execution_count": 41,
   "metadata": {},
   "outputs": [],
   "source": [
    "#плохо видно некоторые департаменты, сделаем отдельные графики для каждого департамента"
   ]
  },
  {
   "cell_type": "code",
   "execution_count": 68,
   "metadata": {},
   "outputs": [
    {
     "data": {
      "text/plain": [
       "<matplotlib.legend.Legend at 0x28c8feda940>"
      ]
     },
     "execution_count": 68,
     "metadata": {},
     "output_type": "execute_result"
    },
    {
     "data": {
      "image/png": "[encoded data removed]",
      "text/plain": [
       "<Figure size 576x288 with 1 Axes>"
      ]
     },
     "metadata": {
      "needs_background": "light"
     },
     "output_type": "display_data"
    }
   ],
   "source": [
    "fig = plt.figure(figsize=(8, 4))\n",
    "\n",
    "plt.hist(workouts_by_trainer.query('trainer_department==\"Spartacus\"').workouts, label='Spartacus',bins=10, color='darkblue')\n",
    "plt.title(\"Распределение по количеству тренировок на одного тренера в отделе Spartacus\")\n",
    "plt.xlabel(\"Количество тренировок\")\n",
    "plt.ylabel(\"Количество тренеров\")\n",
    "plt.legend()"
   ]
  },
  {
   "cell_type": "code",
   "execution_count": 70,
   "metadata": {},
   "outputs": [
    {
     "data": {
      "text/plain": [
       "<matplotlib.legend.Legend at 0x28c901dceb8>"
      ]
     },
     "execution_count": 70,
     "metadata": {},
     "output_type": "execute_result"
    },
    {
     "data": {
      "image/png": "[encoded data removed]",
      "text/plain": [
       "<Figure size 576x288 with 1 Axes>"
      ]
     },
     "metadata": {
      "needs_background": "light"
     },
     "output_type": "display_data"
    }
   ],
   "source": [
    "fig = plt.figure(figsize=(8, 4))\n",
    "plt.hist(workouts_by_trainer.query('trainer_department==\"Sales\"').workouts, label='Sales', bins=5,color='darkgreen')\n",
    "\n",
    "plt.title(\"Распределение по количеству тренировок на одного тренера в отделе Sales\")\n",
    "plt.xlabel(\"Количество тренировок\")\n",
    "plt.ylabel(\"Количество тренеров\")\n",
    "plt.legend()"
   ]
  },
  {
   "cell_type": "code",
   "execution_count": 71,
   "metadata": {},
   "outputs": [
    {
     "data": {
      "text/plain": [
       "<matplotlib.legend.Legend at 0x28c902199e8>"
      ]
     },
     "execution_count": 71,
     "metadata": {},
     "output_type": "execute_result"
    },
    {
     "data": {
      "image/png": "[encoded data removed]",
      "text/plain": [
       "<Figure size 576x288 with 1 Axes>"
      ]
     },
     "metadata": {
      "needs_background": "light"
     },
     "output_type": "display_data"
    }
   ],
   "source": [
    "fig = plt.figure(figsize=(8, 4))\n",
    "plt.hist(workouts_by_trainer.query('trainer_department==\"Consultant\"').workouts, label='Consultant', bins=2,color='darkcyan')\n",
    "\n",
    "plt.title(\"Распределение по количеству тренировок на одного тренера в отделе Consultant\")\n",
    "plt.xlabel(\"Количество тренировок\")\n",
    "plt.ylabel(\"Количество тренеров\")\n",
    "plt.legend()"
   ]
  },
  {
   "cell_type": "code",
   "execution_count": 72,
   "metadata": {},
   "outputs": [
    {
     "data": {
      "text/plain": [
       "<matplotlib.legend.Legend at 0x28c90257828>"
      ]
     },
     "execution_count": 72,
     "metadata": {},
     "output_type": "execute_result"
    },
    {
     "data": {
      "image/png": "[encoded data removed]",
      "text/plain": [
       "<Figure size 576x288 with 1 Axes>"
      ]
     },
     "metadata": {
      "needs_background": "light"
     },
     "output_type": "display_data"
    }
   ],
   "source": [
    "fig = plt.figure(figsize=(8, 4))\n",
    "plt.hist(workouts_by_trainer.query('trainer_department==\"Cycling\"').workouts, label='Cycling', bins=10,color='darkgray')\n",
    "\n",
    "plt.title(\"Распределение по количеству тренировок на одного тренера в отделе Cycling\")\n",
    "plt.xlabel(\"Количество тренировок\")\n",
    "plt.ylabel(\"Количество тренеров\")\n",
    "plt.legend()"
   ]
  },
  {
   "cell_type": "code",
   "execution_count": 73,
   "metadata": {},
   "outputs": [
    {
     "data": {
      "text/plain": [
       "<matplotlib.legend.Legend at 0x28c902ae048>"
      ]
     },
     "execution_count": 73,
     "metadata": {},
     "output_type": "execute_result"
    },
    {
     "data": {
      "image/png": "[encoded data removed]",
      "text/plain": [
       "<Figure size 576x288 with 1 Axes>"
      ]
     },
     "metadata": {
      "needs_background": "light"
     },
     "output_type": "display_data"
    }
   ],
   "source": [
    "fig = plt.figure(figsize=(8, 4))\n",
    "plt.hist(workouts_by_trainer.query('trainer_department==\"Dinamo\"').workouts, label='Dinamo', bins=10,color='darksalmon')\n",
    "\n",
    "plt.title(\"Распределение по количеству тренировок на одного тренера в отделе Dinamo\")\n",
    "plt.xlabel(\"Количество тренировок\")\n",
    "plt.ylabel(\"Количество тренеров\")\n",
    "plt.legend()"
   ]
  },
  {
   "cell_type": "code",
   "execution_count": 74,
   "metadata": {},
   "outputs": [
    {
     "data": {
      "text/plain": [
       "<matplotlib.legend.Legend at 0x28c902bdeb8>"
      ]
     },
     "execution_count": 74,
     "metadata": {},
     "output_type": "execute_result"
    },
    {
     "data": {
      "image/png": "[encoded data removed]",
      "text/plain": [
       "<Figure size 576x288 with 1 Axes>"
      ]
     },
     "metadata": {
      "needs_background": "light"
     },
     "output_type": "display_data"
    }
   ],
   "source": [
    "fig = plt.figure(figsize=(8, 4))\n",
    "plt.hist(workouts_by_trainer.query('trainer_department==\"Sports Reserves\"').workouts, label='Sports Reserves', bins=10,color='darkred')\n",
    "\n",
    "plt.title(\"Распределение по количеству тренировок на одного тренера в отделе Sports Reserves\")\n",
    "plt.xlabel(\"Количество тренировок\")\n",
    "plt.ylabel(\"Количество тренеров\")\n",
    "plt.legend()"
   ]
  },
  {
   "cell_type": "code",
   "execution_count": null,
   "metadata": {},
   "outputs": [],
   "source": []
  },
  {
   "cell_type": "code",
   "execution_count": null,
   "metadata": {},
   "outputs": [],
   "source": []
  },
  {
   "cell_type": "markdown",
   "metadata": {},
   "source": [
    "## Задание 4\n",
    "\n",
    "Мы поняли, как тренировки распределились в каждом департаменте, но чтобы принимать какие-то решения, нужно посмотреть общую картину. Здесь нам поможет боксплот: увидим, в каких департаментах низкое среднее количество тренеровок по сравнению с остальными, и где больше перегруженных тренеров.\n",
    "\n",
    "**Построй boxplot (один) с распределением тренеров по количеству проведенных уроков с разбивкой по департаментам.**\n",
    "\n",
    "Как это сделать:\n",
    "\n",
    "1. В аргументы функции, которая строит boxplot, передай: департаменты, общее количество проведенных тренерами занятий и количество тренировок у каждого тренера\n",
    "2. Используй свой цвет в графике\n",
    "3. Оставь комментарий: какие рекомендации можно дать по распределению нагрузки на тренеров разных департаментов, глядя на этот график"
   ]
  },
  {
   "cell_type": "code",
   "execution_count": 48,
   "metadata": {},
   "outputs": [
    {
     "data": {
      "text/html": [
       "<div>\n",
       "<style scoped>\n",
       "    .dataframe tbody tr th:only-of-type {\n",
       "        vertical-align: middle;\n",
       "    }\n",
       "\n",
       "    .dataframe tbody tr th {\n",
       "        vertical-align: top;\n",
       "    }\n",
       "\n",
       "    .dataframe thead th {\n",
       "        text-align: right;\n",
       "    }\n",
       "</style>\n",
       "<table border=\"1\" class=\"dataframe\">\n",
       "  <thead>\n",
       "    <tr style=\"text-align: right;\">\n",
       "      <th></th>\n",
       "      <th>trainer_id</th>\n",
       "      <th>trainer_department</th>\n",
       "      <th>workouts</th>\n",
       "    </tr>\n",
       "  </thead>\n",
       "  <tbody>\n",
       "    <tr>\n",
       "      <th>0</th>\n",
       "      <td>1994</td>\n",
       "      <td>Spartacus</td>\n",
       "      <td>26</td>\n",
       "    </tr>\n",
       "    <tr>\n",
       "      <th>1</th>\n",
       "      <td>4446</td>\n",
       "      <td>Spartacus</td>\n",
       "      <td>9</td>\n",
       "    </tr>\n",
       "    <tr>\n",
       "      <th>2</th>\n",
       "      <td>9256</td>\n",
       "      <td>Spartacus</td>\n",
       "      <td>9</td>\n",
       "    </tr>\n",
       "    <tr>\n",
       "      <th>3</th>\n",
       "      <td>14431</td>\n",
       "      <td>Spartacus</td>\n",
       "      <td>11</td>\n",
       "    </tr>\n",
       "    <tr>\n",
       "      <th>4</th>\n",
       "      <td>15062</td>\n",
       "      <td>Spartacus</td>\n",
       "      <td>8</td>\n",
       "    </tr>\n",
       "  </tbody>\n",
       "</table>\n",
       "</div>"
      ],
      "text/plain": [
       "   trainer_id trainer_department  workouts\n",
       "0        1994          Spartacus        26\n",
       "1        4446          Spartacus         9\n",
       "2        9256          Spartacus         9\n",
       "3       14431          Spartacus        11\n",
       "4       15062          Spartacus         8"
      ]
     },
     "execution_count": 48,
     "metadata": {},
     "output_type": "execute_result"
    }
   ],
   "source": [
    "workouts_by_trainer.head()"
   ]
  },
  {
   "cell_type": "code",
   "execution_count": 49,
   "metadata": {},
   "outputs": [
    {
     "data": {
      "text/plain": [
       "Text(0, 0.5, 'Департамент')"
      ]
     },
     "execution_count": 49,
     "metadata": {},
     "output_type": "execute_result"
    },
    {
     "data": {
      "image/png": "[encoded data removed]",
      "text/plain": [
       "<Figure size 576x288 with 1 Axes>"
      ]
     },
     "metadata": {
      "needs_background": "light"
     },
     "output_type": "display_data"
    }
   ],
   "source": [
    "# напиши здесь код\n",
    "fig = plt.figure(figsize=(8, 4))\n",
    "sns.boxplot(x='workouts', y='trainer_department', data=workouts_by_trainer)\n",
    "plt.title(\"Распределение тренеров по количеству проведенных уроков\")\n",
    "plt.xlabel(\"Количество тренировок\")\n",
    "plt.ylabel(\"Департамент\")"
   ]
  },
  {
   "cell_type": "code",
   "execution_count": 50,
   "metadata": {},
   "outputs": [],
   "source": [
    "# Вывод, в отделе Spartacus часть тренеров перерабатывает очень сильно, так же перерабатывают и в \n",
    "# отделах Sports Reserves, Dinamo\n",
    "# если тренеры взаимозаяменяемые, то можно перекинуть из отделов Athletic и Cycling в недостающие отделы.\n",
    "# если же нет, тогда привлечь дополнительно ещё тренеров со стороны или поднять цену на тренировки что бы сократить спрос"
   ]
  },
  {
   "cell_type": "markdown",
   "metadata": {},
   "source": [
    "## Задание 5\n",
    "\n",
    "\n",
    "Логично, что дешевые тренировки пропускаю чаще дорогих, но мы хотим сформировать стратегию по снижению количеству пропусков, а значит нам нужны более точные данные. Для начала мы хотим посмотреть детально на корреляцию нескольких параметров с вероятностью пропусков. Возможно, это позволит нам лучше сегментировать нашу аудиторию.\n",
    "\n",
    "Есть гипотеза, что на вероятность прогула влияет не только цена, но и возраст. Изучи этот вопрос с помощью графиков. \n",
    "\n",
    "**Тебе предстоит построить 3 скаттерплота в этом задании, оставь комментарий по каждому графику, видишь ли ты какие-то явные зависимости в даннных.**\n",
    "\n",
    "1. **Внимательно изучи код, который мы подготовили, и запусти ячейки.** Что мы сделали:\n",
    "    - отфильтровали только платные тренировки\n",
    "    - поменяли тип данных в числовых столбцах на int\n",
    "    - разметили столбец со статусом, успешные тренировки пометили единицей, пропущенные - нулем, чтобы высчитать долю пропусков\n",
    "    - создали датафрейм, где подсчитана доля прогулов по двум параметрам: возраст и цена\n",
    "\n",
    "\n",
    "2. **Построй скаттерплот, который покажет корреляцию прогулов к цене**\n",
    "    - создай датафрейм, где подсчитан процент прогулов аналогично предподготовленному датафрейму cost_age_data_agg, но без возраста, только с ценой\n",
    "    - в функцию, которая строит скаттерплот можешь добавить любые аргументы, но обязательно используй вот эти:\n",
    "        - размер графика\n",
    "        - название графика\n",
    "        - подпись оси X\n",
    "        - подпись оси Y\n",
    "        - задай цвет на графике\n",
    "    \n",
    "Подготовим данные:"
   ]
  },
  {
   "cell_type": "code",
   "execution_count": 51,
   "metadata": {},
   "outputs": [
    {
     "data": {
      "text/html": [
       "<div>\n",
       "<style scoped>\n",
       "    .dataframe tbody tr th:only-of-type {\n",
       "        vertical-align: middle;\n",
       "    }\n",
       "\n",
       "    .dataframe tbody tr th {\n",
       "        vertical-align: top;\n",
       "    }\n",
       "\n",
       "    .dataframe thead th {\n",
       "        text-align: right;\n",
       "    }\n",
       "</style>\n",
       "<table border=\"1\" class=\"dataframe\">\n",
       "  <thead>\n",
       "    <tr style=\"text-align: right;\">\n",
       "      <th></th>\n",
       "      <th>workout_id</th>\n",
       "      <th>cost</th>\n",
       "      <th>start_at</th>\n",
       "      <th>status</th>\n",
       "      <th>workout_schedule_type</th>\n",
       "      <th>client_id</th>\n",
       "      <th>client_status</th>\n",
       "      <th>workout_type</th>\n",
       "      <th>trainer_department</th>\n",
       "      <th>trainer_id</th>\n",
       "      <th>first_contact_datetime</th>\n",
       "      <th>age</th>\n",
       "      <th>free_workout_datetime</th>\n",
       "      <th>first_payment_datetime</th>\n",
       "      <th>workouts_successful</th>\n",
       "      <th>workouts_total</th>\n",
       "      <th>months_active</th>\n",
       "      <th>user_id</th>\n",
       "      <th>region</th>\n",
       "      <th>geo_group</th>\n",
       "    </tr>\n",
       "  </thead>\n",
       "  <tbody>\n",
       "    <tr>\n",
       "      <th>0</th>\n",
       "      <td>30793909</td>\n",
       "      <td>NaN</td>\n",
       "      <td>2020-11-13 12:45:00</td>\n",
       "      <td>success</td>\n",
       "      <td>trial</td>\n",
       "      <td>22034</td>\n",
       "      <td>NaN</td>\n",
       "      <td>general</td>\n",
       "      <td>Sales</td>\n",
       "      <td>10722051</td>\n",
       "      <td>2015-06-24 10:44:30</td>\n",
       "      <td>18.0</td>\n",
       "      <td>2020-11-13 12:45:00</td>\n",
       "      <td>2020-11-16 21:41:50</td>\n",
       "      <td>3</td>\n",
       "      <td>3</td>\n",
       "      <td>2</td>\n",
       "      <td>22034</td>\n",
       "      <td>Москва и Московская область</td>\n",
       "      <td>Москва</td>\n",
       "    </tr>\n",
       "  </tbody>\n",
       "</table>\n",
       "</div>"
      ],
      "text/plain": [
       "   workout_id  cost            start_at   status workout_schedule_type  \\\n",
       "0    30793909   NaN 2020-11-13 12:45:00  success                 trial   \n",
       "\n",
       "   client_id client_status workout_type trainer_department  trainer_id  \\\n",
       "0      22034           NaN      general              Sales    10722051   \n",
       "\n",
       "  first_contact_datetime   age free_workout_datetime first_payment_datetime  \\\n",
       "0    2015-06-24 10:44:30  18.0   2020-11-13 12:45:00    2020-11-16 21:41:50   \n",
       "\n",
       "   workouts_successful  workouts_total  months_active  user_id  \\\n",
       "0                    3               3              2    22034   \n",
       "\n",
       "                        region geo_group  \n",
       "0  Москва и Московская область    Москва  "
      ]
     },
     "execution_count": 51,
     "metadata": {},
     "output_type": "execute_result"
    }
   ],
   "source": [
    "workouts_users.head(1)"
   ]
  },
  {
   "cell_type": "code",
   "execution_count": 52,
   "metadata": {},
   "outputs": [
    {
     "data": {
      "text/html": [
       "<div>\n",
       "<style scoped>\n",
       "    .dataframe tbody tr th:only-of-type {\n",
       "        vertical-align: middle;\n",
       "    }\n",
       "\n",
       "    .dataframe tbody tr th {\n",
       "        vertical-align: top;\n",
       "    }\n",
       "\n",
       "    .dataframe thead th {\n",
       "        text-align: right;\n",
       "    }\n",
       "</style>\n",
       "<table border=\"1\" class=\"dataframe\">\n",
       "  <thead>\n",
       "    <tr style=\"text-align: right;\">\n",
       "      <th></th>\n",
       "      <th>cost</th>\n",
       "      <th>age</th>\n",
       "      <th>status</th>\n",
       "    </tr>\n",
       "  </thead>\n",
       "  <tbody>\n",
       "    <tr>\n",
       "      <th>0</th>\n",
       "      <td>500</td>\n",
       "      <td>5</td>\n",
       "      <td>0.000000</td>\n",
       "    </tr>\n",
       "    <tr>\n",
       "      <th>1</th>\n",
       "      <td>500</td>\n",
       "      <td>6</td>\n",
       "      <td>0.500000</td>\n",
       "    </tr>\n",
       "    <tr>\n",
       "      <th>2</th>\n",
       "      <td>500</td>\n",
       "      <td>7</td>\n",
       "      <td>0.500000</td>\n",
       "    </tr>\n",
       "    <tr>\n",
       "      <th>3</th>\n",
       "      <td>500</td>\n",
       "      <td>8</td>\n",
       "      <td>0.242424</td>\n",
       "    </tr>\n",
       "    <tr>\n",
       "      <th>4</th>\n",
       "      <td>500</td>\n",
       "      <td>9</td>\n",
       "      <td>0.235294</td>\n",
       "    </tr>\n",
       "    <tr>\n",
       "      <th>5</th>\n",
       "      <td>500</td>\n",
       "      <td>10</td>\n",
       "      <td>0.317073</td>\n",
       "    </tr>\n",
       "    <tr>\n",
       "      <th>6</th>\n",
       "      <td>500</td>\n",
       "      <td>11</td>\n",
       "      <td>0.403846</td>\n",
       "    </tr>\n",
       "    <tr>\n",
       "      <th>7</th>\n",
       "      <td>500</td>\n",
       "      <td>12</td>\n",
       "      <td>0.240741</td>\n",
       "    </tr>\n",
       "    <tr>\n",
       "      <th>8</th>\n",
       "      <td>500</td>\n",
       "      <td>13</td>\n",
       "      <td>0.351852</td>\n",
       "    </tr>\n",
       "    <tr>\n",
       "      <th>9</th>\n",
       "      <td>500</td>\n",
       "      <td>14</td>\n",
       "      <td>0.254545</td>\n",
       "    </tr>\n",
       "    <tr>\n",
       "      <th>10</th>\n",
       "      <td>500</td>\n",
       "      <td>15</td>\n",
       "      <td>0.213483</td>\n",
       "    </tr>\n",
       "    <tr>\n",
       "      <th>11</th>\n",
       "      <td>500</td>\n",
       "      <td>16</td>\n",
       "      <td>0.180556</td>\n",
       "    </tr>\n",
       "    <tr>\n",
       "      <th>12</th>\n",
       "      <td>500</td>\n",
       "      <td>17</td>\n",
       "      <td>0.391304</td>\n",
       "    </tr>\n",
       "    <tr>\n",
       "      <th>13</th>\n",
       "      <td>500</td>\n",
       "      <td>18</td>\n",
       "      <td>0.240741</td>\n",
       "    </tr>\n",
       "    <tr>\n",
       "      <th>14</th>\n",
       "      <td>500</td>\n",
       "      <td>19</td>\n",
       "      <td>0.272059</td>\n",
       "    </tr>\n",
       "    <tr>\n",
       "      <th>15</th>\n",
       "      <td>500</td>\n",
       "      <td>20</td>\n",
       "      <td>0.352273</td>\n",
       "    </tr>\n",
       "    <tr>\n",
       "      <th>16</th>\n",
       "      <td>500</td>\n",
       "      <td>21</td>\n",
       "      <td>0.208955</td>\n",
       "    </tr>\n",
       "    <tr>\n",
       "      <th>17</th>\n",
       "      <td>500</td>\n",
       "      <td>22</td>\n",
       "      <td>0.274336</td>\n",
       "    </tr>\n",
       "    <tr>\n",
       "      <th>18</th>\n",
       "      <td>500</td>\n",
       "      <td>23</td>\n",
       "      <td>0.308411</td>\n",
       "    </tr>\n",
       "    <tr>\n",
       "      <th>19</th>\n",
       "      <td>500</td>\n",
       "      <td>24</td>\n",
       "      <td>0.308725</td>\n",
       "    </tr>\n",
       "    <tr>\n",
       "      <th>20</th>\n",
       "      <td>500</td>\n",
       "      <td>25</td>\n",
       "      <td>0.280822</td>\n",
       "    </tr>\n",
       "    <tr>\n",
       "      <th>21</th>\n",
       "      <td>500</td>\n",
       "      <td>26</td>\n",
       "      <td>0.216667</td>\n",
       "    </tr>\n",
       "    <tr>\n",
       "      <th>22</th>\n",
       "      <td>500</td>\n",
       "      <td>27</td>\n",
       "      <td>0.275862</td>\n",
       "    </tr>\n",
       "    <tr>\n",
       "      <th>23</th>\n",
       "      <td>500</td>\n",
       "      <td>28</td>\n",
       "      <td>0.292683</td>\n",
       "    </tr>\n",
       "    <tr>\n",
       "      <th>24</th>\n",
       "      <td>500</td>\n",
       "      <td>29</td>\n",
       "      <td>0.212121</td>\n",
       "    </tr>\n",
       "    <tr>\n",
       "      <th>25</th>\n",
       "      <td>500</td>\n",
       "      <td>30</td>\n",
       "      <td>0.313953</td>\n",
       "    </tr>\n",
       "    <tr>\n",
       "      <th>26</th>\n",
       "      <td>500</td>\n",
       "      <td>31</td>\n",
       "      <td>0.194805</td>\n",
       "    </tr>\n",
       "    <tr>\n",
       "      <th>27</th>\n",
       "      <td>500</td>\n",
       "      <td>32</td>\n",
       "      <td>0.213115</td>\n",
       "    </tr>\n",
       "    <tr>\n",
       "      <th>28</th>\n",
       "      <td>500</td>\n",
       "      <td>33</td>\n",
       "      <td>0.122807</td>\n",
       "    </tr>\n",
       "    <tr>\n",
       "      <th>29</th>\n",
       "      <td>500</td>\n",
       "      <td>34</td>\n",
       "      <td>0.055556</td>\n",
       "    </tr>\n",
       "    <tr>\n",
       "      <th>...</th>\n",
       "      <td>...</td>\n",
       "      <td>...</td>\n",
       "      <td>...</td>\n",
       "    </tr>\n",
       "    <tr>\n",
       "      <th>160</th>\n",
       "      <td>1500</td>\n",
       "      <td>15</td>\n",
       "      <td>0.131579</td>\n",
       "    </tr>\n",
       "    <tr>\n",
       "      <th>161</th>\n",
       "      <td>1500</td>\n",
       "      <td>17</td>\n",
       "      <td>0.096774</td>\n",
       "    </tr>\n",
       "    <tr>\n",
       "      <th>162</th>\n",
       "      <td>1500</td>\n",
       "      <td>18</td>\n",
       "      <td>0.181818</td>\n",
       "    </tr>\n",
       "    <tr>\n",
       "      <th>163</th>\n",
       "      <td>1500</td>\n",
       "      <td>19</td>\n",
       "      <td>0.169811</td>\n",
       "    </tr>\n",
       "    <tr>\n",
       "      <th>164</th>\n",
       "      <td>1500</td>\n",
       "      <td>20</td>\n",
       "      <td>0.096154</td>\n",
       "    </tr>\n",
       "    <tr>\n",
       "      <th>165</th>\n",
       "      <td>1500</td>\n",
       "      <td>21</td>\n",
       "      <td>0.081081</td>\n",
       "    </tr>\n",
       "    <tr>\n",
       "      <th>166</th>\n",
       "      <td>1500</td>\n",
       "      <td>22</td>\n",
       "      <td>0.105263</td>\n",
       "    </tr>\n",
       "    <tr>\n",
       "      <th>167</th>\n",
       "      <td>1500</td>\n",
       "      <td>23</td>\n",
       "      <td>0.125000</td>\n",
       "    </tr>\n",
       "    <tr>\n",
       "      <th>168</th>\n",
       "      <td>1500</td>\n",
       "      <td>24</td>\n",
       "      <td>0.153846</td>\n",
       "    </tr>\n",
       "    <tr>\n",
       "      <th>169</th>\n",
       "      <td>1500</td>\n",
       "      <td>25</td>\n",
       "      <td>0.191781</td>\n",
       "    </tr>\n",
       "    <tr>\n",
       "      <th>170</th>\n",
       "      <td>1500</td>\n",
       "      <td>26</td>\n",
       "      <td>0.094828</td>\n",
       "    </tr>\n",
       "    <tr>\n",
       "      <th>171</th>\n",
       "      <td>1500</td>\n",
       "      <td>27</td>\n",
       "      <td>0.147727</td>\n",
       "    </tr>\n",
       "    <tr>\n",
       "      <th>172</th>\n",
       "      <td>1500</td>\n",
       "      <td>28</td>\n",
       "      <td>0.176471</td>\n",
       "    </tr>\n",
       "    <tr>\n",
       "      <th>173</th>\n",
       "      <td>1500</td>\n",
       "      <td>29</td>\n",
       "      <td>0.144231</td>\n",
       "    </tr>\n",
       "    <tr>\n",
       "      <th>174</th>\n",
       "      <td>1500</td>\n",
       "      <td>30</td>\n",
       "      <td>0.075758</td>\n",
       "    </tr>\n",
       "    <tr>\n",
       "      <th>175</th>\n",
       "      <td>1500</td>\n",
       "      <td>31</td>\n",
       "      <td>0.155844</td>\n",
       "    </tr>\n",
       "    <tr>\n",
       "      <th>176</th>\n",
       "      <td>1500</td>\n",
       "      <td>32</td>\n",
       "      <td>0.114865</td>\n",
       "    </tr>\n",
       "    <tr>\n",
       "      <th>177</th>\n",
       "      <td>1500</td>\n",
       "      <td>33</td>\n",
       "      <td>0.042254</td>\n",
       "    </tr>\n",
       "    <tr>\n",
       "      <th>178</th>\n",
       "      <td>1500</td>\n",
       "      <td>34</td>\n",
       "      <td>0.000000</td>\n",
       "    </tr>\n",
       "    <tr>\n",
       "      <th>179</th>\n",
       "      <td>1500</td>\n",
       "      <td>36</td>\n",
       "      <td>0.000000</td>\n",
       "    </tr>\n",
       "    <tr>\n",
       "      <th>180</th>\n",
       "      <td>1500</td>\n",
       "      <td>37</td>\n",
       "      <td>0.000000</td>\n",
       "    </tr>\n",
       "    <tr>\n",
       "      <th>181</th>\n",
       "      <td>1500</td>\n",
       "      <td>40</td>\n",
       "      <td>0.000000</td>\n",
       "    </tr>\n",
       "    <tr>\n",
       "      <th>182</th>\n",
       "      <td>1500</td>\n",
       "      <td>43</td>\n",
       "      <td>0.000000</td>\n",
       "    </tr>\n",
       "    <tr>\n",
       "      <th>183</th>\n",
       "      <td>1500</td>\n",
       "      <td>44</td>\n",
       "      <td>0.000000</td>\n",
       "    </tr>\n",
       "    <tr>\n",
       "      <th>184</th>\n",
       "      <td>1500</td>\n",
       "      <td>46</td>\n",
       "      <td>0.000000</td>\n",
       "    </tr>\n",
       "    <tr>\n",
       "      <th>185</th>\n",
       "      <td>1500</td>\n",
       "      <td>47</td>\n",
       "      <td>0.000000</td>\n",
       "    </tr>\n",
       "    <tr>\n",
       "      <th>186</th>\n",
       "      <td>1500</td>\n",
       "      <td>49</td>\n",
       "      <td>0.125000</td>\n",
       "    </tr>\n",
       "    <tr>\n",
       "      <th>187</th>\n",
       "      <td>1500</td>\n",
       "      <td>50</td>\n",
       "      <td>0.500000</td>\n",
       "    </tr>\n",
       "    <tr>\n",
       "      <th>188</th>\n",
       "      <td>1500</td>\n",
       "      <td>55</td>\n",
       "      <td>0.187500</td>\n",
       "    </tr>\n",
       "    <tr>\n",
       "      <th>189</th>\n",
       "      <td>1500</td>\n",
       "      <td>68</td>\n",
       "      <td>0.000000</td>\n",
       "    </tr>\n",
       "  </tbody>\n",
       "</table>\n",
       "<p>190 rows × 3 columns</p>\n",
       "</div>"
      ],
      "text/plain": [
       "     cost  age    status\n",
       "0     500    5  0.000000\n",
       "1     500    6  0.500000\n",
       "2     500    7  0.500000\n",
       "3     500    8  0.242424\n",
       "4     500    9  0.235294\n",
       "5     500   10  0.317073\n",
       "6     500   11  0.403846\n",
       "7     500   12  0.240741\n",
       "8     500   13  0.351852\n",
       "9     500   14  0.254545\n",
       "10    500   15  0.213483\n",
       "11    500   16  0.180556\n",
       "12    500   17  0.391304\n",
       "13    500   18  0.240741\n",
       "14    500   19  0.272059\n",
       "15    500   20  0.352273\n",
       "16    500   21  0.208955\n",
       "17    500   22  0.274336\n",
       "18    500   23  0.308411\n",
       "19    500   24  0.308725\n",
       "20    500   25  0.280822\n",
       "21    500   26  0.216667\n",
       "22    500   27  0.275862\n",
       "23    500   28  0.292683\n",
       "24    500   29  0.212121\n",
       "25    500   30  0.313953\n",
       "26    500   31  0.194805\n",
       "27    500   32  0.213115\n",
       "28    500   33  0.122807\n",
       "29    500   34  0.055556\n",
       "..    ...  ...       ...\n",
       "160  1500   15  0.131579\n",
       "161  1500   17  0.096774\n",
       "162  1500   18  0.181818\n",
       "163  1500   19  0.169811\n",
       "164  1500   20  0.096154\n",
       "165  1500   21  0.081081\n",
       "166  1500   22  0.105263\n",
       "167  1500   23  0.125000\n",
       "168  1500   24  0.153846\n",
       "169  1500   25  0.191781\n",
       "170  1500   26  0.094828\n",
       "171  1500   27  0.147727\n",
       "172  1500   28  0.176471\n",
       "173  1500   29  0.144231\n",
       "174  1500   30  0.075758\n",
       "175  1500   31  0.155844\n",
       "176  1500   32  0.114865\n",
       "177  1500   33  0.042254\n",
       "178  1500   34  0.000000\n",
       "179  1500   36  0.000000\n",
       "180  1500   37  0.000000\n",
       "181  1500   40  0.000000\n",
       "182  1500   43  0.000000\n",
       "183  1500   44  0.000000\n",
       "184  1500   46  0.000000\n",
       "185  1500   47  0.000000\n",
       "186  1500   49  0.125000\n",
       "187  1500   50  0.500000\n",
       "188  1500   55  0.187500\n",
       "189  1500   68  0.000000\n",
       "\n",
       "[190 rows x 3 columns]"
      ]
     },
     "execution_count": 52,
     "metadata": {},
     "output_type": "execute_result"
    }
   ],
   "source": [
    "# отфильтровали бесплатные тренировки и сделали копию датафрейма\n",
    "cost_age_data = workouts_users[['status','cost','age']].loc[workouts_users.workout_schedule_type!='trial'].dropna().copy()\n",
    "\n",
    "# Изменяем тип данных столбцов age и cost на int. Это нужно, чтобы на подписях к диаграммам числа были целыми\n",
    "cost_age_data['age'] = cost_age_data['age'].apply(int) \n",
    "cost_age_data['cost'] = cost_age_data['cost'].apply(int)\n",
    "\n",
    "# Кодируем столбец status, присваивая 1 в случаях, если он равен failed_by_client и 0 в случае success\n",
    "cost_age_data['status'] = cost_age_data.status.map({'success':0,'failed_by_client':1})\n",
    "\n",
    "# создаём агрегированные наборы данных\n",
    "cost_age_data_agg = cost_age_data.groupby(['cost','age'])['status'].mean().reset_index() #считаем долю прогулов по возрасту и цене \n",
    "\n",
    "cost_age_data_agg"
   ]
  },
  {
   "cell_type": "code",
   "execution_count": 53,
   "metadata": {},
   "outputs": [
    {
     "data": {
      "text/plain": [
       "Text(0, 0.5, 'Цена тренировки')"
      ]
     },
     "execution_count": 53,
     "metadata": {},
     "output_type": "execute_result"
    },
    {
     "data": {
      "image/png": "[encoded data removed]",
      "text/plain": [
       "<Figure size 576x288 with 1 Axes>"
      ]
     },
     "metadata": {
      "needs_background": "light"
     },
     "output_type": "display_data"
    }
   ],
   "source": [
    "# напиши здесь код\n",
    "fig = plt.figure(figsize=(8, 4))\n",
    "sns.scatterplot(data=cost_age_data_agg, x='status', y='cost')\n",
    "plt.title(\"Корелляция прогулов к цене тренировки\")\n",
    "plt.xlabel(\"Процентр прогуленых тренировок\")\n",
    "plt.ylabel(\"Цена тренировки\")"
   ]
  },
  {
   "cell_type": "code",
   "execution_count": 54,
   "metadata": {},
   "outputs": [],
   "source": [
    "#Видна очевидная корреляция цены и прогула, чем выше цена, тем меньше прогуливают"
   ]
  },
  {
   "cell_type": "markdown",
   "metadata": {},
   "source": [
    "3. **Построй скаттерплот, который покажет корреляцию прогулов к возрасту**\n",
    "    - создай датафрейм, где подсчитан процент прогулов аналогично предподготовленному датафрейму cost_age_data_agg, но без цен, только с возрастом\n",
    "    - в функцию, которая строит скаттерплот можешь добавить любые аргументы, но обязательно используй вот эти:\n",
    "        - размер графика\n",
    "        - название графика\n",
    "        - подпись оси X\n",
    "        - подпись оси Y\n",
    "        - задай цвет на графике"
   ]
  },
  {
   "cell_type": "code",
   "execution_count": 55,
   "metadata": {},
   "outputs": [
    {
     "data": {
      "text/html": [
       "<div>\n",
       "<style scoped>\n",
       "    .dataframe tbody tr th:only-of-type {\n",
       "        vertical-align: middle;\n",
       "    }\n",
       "\n",
       "    .dataframe tbody tr th {\n",
       "        vertical-align: top;\n",
       "    }\n",
       "\n",
       "    .dataframe thead th {\n",
       "        text-align: right;\n",
       "    }\n",
       "</style>\n",
       "<table border=\"1\" class=\"dataframe\">\n",
       "  <thead>\n",
       "    <tr style=\"text-align: right;\">\n",
       "      <th></th>\n",
       "      <th>age</th>\n",
       "      <th>status</th>\n",
       "    </tr>\n",
       "  </thead>\n",
       "  <tbody>\n",
       "    <tr>\n",
       "      <th>0</th>\n",
       "      <td>4</td>\n",
       "      <td>0.250000</td>\n",
       "    </tr>\n",
       "    <tr>\n",
       "      <th>1</th>\n",
       "      <td>5</td>\n",
       "      <td>0.500000</td>\n",
       "    </tr>\n",
       "    <tr>\n",
       "      <th>2</th>\n",
       "      <td>6</td>\n",
       "      <td>0.216216</td>\n",
       "    </tr>\n",
       "    <tr>\n",
       "      <th>3</th>\n",
       "      <td>7</td>\n",
       "      <td>0.241379</td>\n",
       "    </tr>\n",
       "    <tr>\n",
       "      <th>4</th>\n",
       "      <td>8</td>\n",
       "      <td>0.249221</td>\n",
       "    </tr>\n",
       "  </tbody>\n",
       "</table>\n",
       "</div>"
      ],
      "text/plain": [
       "   age    status\n",
       "0    4  0.250000\n",
       "1    5  0.500000\n",
       "2    6  0.216216\n",
       "3    7  0.241379\n",
       "4    8  0.249221"
      ]
     },
     "execution_count": 55,
     "metadata": {},
     "output_type": "execute_result"
    }
   ],
   "source": [
    "# напиши здесь код\n",
    "age_data = workouts_users[['status','age']].loc[workouts_users.workout_schedule_type!='trial'].dropna().copy()\n",
    "\n",
    "# Изменяем тип данных столбцов age на int. Это нужно, чтобы на подписях к диаграммам числа были целыми\n",
    "age_data['age'] = age_data['age'].apply(int) \n",
    "\n",
    "\n",
    "# Кодируем столбец status, присваивая 1 в случаях, если он равен failed_by_client и 0 в случае success\n",
    "age_data['status'] = age_data.status.map({'success':0,'failed_by_client':1})\n",
    "\n",
    "# создаём агрегированные наборы данных\n",
    "age_data_agg = age_data.groupby(['age'])['status'].mean().reset_index() #считаем долю прогулов по возрасту и цене \n",
    "\n",
    "age_data_agg.head(5)"
   ]
  },
  {
   "cell_type": "code",
   "execution_count": 56,
   "metadata": {},
   "outputs": [
    {
     "data": {
      "text/plain": [
       "Text(0, 0.5, 'Возраст')"
      ]
     },
     "execution_count": 56,
     "metadata": {},
     "output_type": "execute_result"
    },
    {
     "data": {
      "image/png": "[encoded data removed]",
      "text/plain": [
       "<Figure size 576x288 with 1 Axes>"
      ]
     },
     "metadata": {
      "needs_background": "light"
     },
     "output_type": "display_data"
    }
   ],
   "source": [
    "fig = plt.figure(figsize=(8, 4))\n",
    "sns.scatterplot(data=age_data_agg, x='age', y='status')\n",
    "plt.title(\"Корелляция прогулов к возрасту\")\n",
    "plt.xlabel(\"Процентр прогуленых тренировок\")\n",
    "plt.ylabel(\"Возраст\")"
   ]
  },
  {
   "cell_type": "code",
   "execution_count": 57,
   "metadata": {},
   "outputs": [],
   "source": [
    "#почему то после 30 люди кардинально по другому \"прогуливают\", у людей до 30 примерно одинаковый процент прогулов.\n",
    "# после 30 люди начинают меньше прогуливать\n",
    "# а после 50 наоборот уже больше"
   ]
  },
  {
   "cell_type": "markdown",
   "metadata": {},
   "source": [
    "4. **Построй скаттерплот, который покажет корреляцию прогулов и к возрасту и к цене одновременно**\n",
    "    - создай словарь цветов цен в переменной price_color. Чтобы увидеть все уникальные значения, можно использовать множества\n",
    "    - в функцию, которая строит скаттерплот можешь добавить любые аргументы, но обязательно используй вот эти:\n",
    "        - размер графика\n",
    "        - название графика\n",
    "        - подпись оси X\n",
    "        - подпись оси Y\n",
    "        - аргумент  с - цвета для разных цен\n",
    "          "
   ]
  },
  {
   "cell_type": "code",
   "execution_count": 58,
   "metadata": {},
   "outputs": [
    {
     "data": {
      "text/plain": [
       "array([ 500,  750, 1000, 1500], dtype=int64)"
      ]
     },
     "execution_count": 58,
     "metadata": {},
     "output_type": "execute_result"
    }
   ],
   "source": [
    "cost_age_data_agg.cost.unique()"
   ]
  },
  {
   "cell_type": "code",
   "execution_count": 59,
   "metadata": {},
   "outputs": [],
   "source": [
    "price_color = {500:'gray',750:'green', 1000:'blue', 1500:'red'}"
   ]
  },
  {
   "cell_type": "code",
   "execution_count": 60,
   "metadata": {},
   "outputs": [
    {
     "data": {
      "text/plain": [
       "Text(0, 0.5, 'Цена тренировки')"
      ]
     },
     "execution_count": 60,
     "metadata": {},
     "output_type": "execute_result"
    },
    {
     "data": {
      "image/png": "[encoded data removed]",
      "text/plain": [
       "<Figure size 576x288 with 1 Axes>"
      ]
     },
     "metadata": {
      "needs_background": "light"
     },
     "output_type": "display_data"
    }
   ],
   "source": [
    "fig = plt.figure(figsize=(8, 4))\n",
    "sns.scatterplot(data=cost_age_data_agg, x='age', y='status', hue='cost', palette = price_color) \n",
    "plt.title(\"Корелляция прогулов к цене и возрасту одновременно\")\n",
    "plt.xlabel(\"Процентр прогуленых тренировок\")\n",
    "plt.ylabel(\"Цена тренировки\")\n"
   ]
  },
  {
   "cell_type": "code",
   "execution_count": 61,
   "metadata": {},
   "outputs": [],
   "source": [
    "# опять видно четко что люди до 30 и после 30 ведут себя сильно по разному\n",
    "# среди всех пропусков, меньше всего пропускают дорогие занятия, и больше дешевые"
   ]
  },
  {
   "cell_type": "markdown",
   "metadata": {},
   "source": [
    "## Задание 6\n",
    "\n",
    "**Сделай heatmаp для кейса из задания 5.** \n",
    "\n",
    "1. Внимательно изучи код, который мы подготовили, и запусти ячейки. Что мы сделали:\n",
    "    - написали функцию, которая в зависимости от возраста возвращает возрастную группу\n",
    "    - создали новый столбец, применив функцию к столбцу возраста\n",
    "    - сгруппировали данные, чтобы для каждой пары возраст-цена была сгруппирована средняя вероятность прогула\n",
    "    \n",
    "    \n",
    "2. Создай сводную таблицу (матрицу), в которой строками будут интервалы возраста, столбцами — цена занятия, значением — доля прогулов.\n",
    "3. Построй хитмап. Используй любые аргументы, но обязательно вот эти:\n",
    "    - размер графика\n",
    "    - название графика\n",
    "    - подпись оси X\n",
    "    - подпись оси Y\n",
    "    - вывод значений в ячейках\n",
    "    \n",
    "4. Оставь комментарий: какие закономерности ты видишь на графике."
   ]
  },
  {
   "cell_type": "code",
   "execution_count": 62,
   "metadata": {},
   "outputs": [],
   "source": [
    "# пишем функцию, которая поможет разбить клиентов на возрастные группы\n",
    "\n",
    "def calculate_age_bins(age):\n",
    "    if age <= 20:\n",
    "        return '0-20'\n",
    "    if age <= 25:\n",
    "        return '21-25'\n",
    "    if age <= 30:\n",
    "        return '26-30'\n",
    "    if age <= 35:\n",
    "        return '31-35'\n",
    "    if age <= 40:\n",
    "        return '36-40'\n",
    "    if age <= 45:\n",
    "        return '41-45'\n",
    "    if age <= 50:\n",
    "        return '46-50'\n",
    "    return '50+'"
   ]
  },
  {
   "cell_type": "code",
   "execution_count": 63,
   "metadata": {},
   "outputs": [
    {
     "data": {
      "text/html": [
       "<div>\n",
       "<style scoped>\n",
       "    .dataframe tbody tr th:only-of-type {\n",
       "        vertical-align: middle;\n",
       "    }\n",
       "\n",
       "    .dataframe tbody tr th {\n",
       "        vertical-align: top;\n",
       "    }\n",
       "\n",
       "    .dataframe thead th {\n",
       "        text-align: right;\n",
       "    }\n",
       "</style>\n",
       "<table border=\"1\" class=\"dataframe\">\n",
       "  <thead>\n",
       "    <tr style=\"text-align: right;\">\n",
       "      <th></th>\n",
       "      <th>cost</th>\n",
       "      <th>age_bin</th>\n",
       "      <th>status</th>\n",
       "    </tr>\n",
       "  </thead>\n",
       "  <tbody>\n",
       "    <tr>\n",
       "      <th>0</th>\n",
       "      <td>500</td>\n",
       "      <td>0-20</td>\n",
       "      <td>0.286578</td>\n",
       "    </tr>\n",
       "  </tbody>\n",
       "</table>\n",
       "</div>"
      ],
      "text/plain": [
       "   cost age_bin    status\n",
       "0   500    0-20  0.286578"
      ]
     },
     "execution_count": 63,
     "metadata": {},
     "output_type": "execute_result"
    }
   ],
   "source": [
    "#кладем в новый столбец возрастную группу\n",
    "cost_age_data['age_bin'] = cost_age_data.age.apply(calculate_age_bins)\n",
    "\n",
    "# создаём агрегированный набор данных\n",
    "cost_age_data_agg = cost_age_data.groupby(['cost','age_bin'])['status'].mean().reset_index()\n",
    "cost_age_data_agg.head(1)"
   ]
  },
  {
   "cell_type": "code",
   "execution_count": 64,
   "metadata": {},
   "outputs": [],
   "source": [
    "table = pd.pivot_table(cost_age_data_agg, values='status', index='cost', columns='age_bin')"
   ]
  },
  {
   "cell_type": "code",
   "execution_count": 65,
   "metadata": {},
   "outputs": [
    {
     "data": {
      "text/plain": [
       "Text(51.0, 0.5, 'Цена тренировки')"
      ]
     },
     "execution_count": 65,
     "metadata": {},
     "output_type": "execute_result"
    },
    {
     "data": {
      "image/png": "[encoded data removed]",
      "text/plain": [
       "<Figure size 576x288 with 2 Axes>"
      ]
     },
     "metadata": {
      "needs_background": "light"
     },
     "output_type": "display_data"
    }
   ],
   "source": [
    "fig = plt.figure(figsize=(8, 4))\n",
    "sns.heatmap(table, annot=True,cmap=\"inferno\")\n",
    "plt.title(\"Тепловая карта зависимости прогулов от цены и возрастной группы\")\n",
    "plt.xlabel(\"Возрастная группа\")\n",
    "plt.ylabel(\"Цена тренировки\")"
   ]
  },
  {
   "cell_type": "code",
   "execution_count": 66,
   "metadata": {},
   "outputs": [],
   "source": [
    "#три возрастные группы между 31-45 менее всего прогуливают\n",
    "#так же видно как стоимость тренировок влияет на прогулы во всех возрастных категориях"
   ]
  }
 ],
 "metadata": {
  "kernelspec": {
   "display_name": "Python 3",
   "language": "python",
   "name": "python3"
  },
  "language_info": {
   "codemirror_mode": {
    "name": "ipython",
    "version": 3
   },
   "file_extension": ".py",
   "mimetype": "text/x-python",
   "name": "python",
   "nbconvert_exporter": "python",
   "pygments_lexer": "ipython3",
   "version": "3.7.3"
  }
 },
 "nbformat": 4,
 "nbformat_minor": 4
}
